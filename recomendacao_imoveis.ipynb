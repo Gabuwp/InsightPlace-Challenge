{
 "cells": [
  {
   "cell_type": "code",
   "execution_count": 1,
   "id": "a901e167-48f5-45a8-a4e0-05433c5c5d60",
   "metadata": {},
   "outputs": [],
   "source": [
    "from pyspark.sql import SparkSession\n",
    "\n"
   ]
  },
  {
   "cell_type": "code",
   "execution_count": 2,
   "id": "baf20118-61a6-4f76-9f63-0834d054ba64",
   "metadata": {},
   "outputs": [
    {
     "name": "stdout",
     "output_type": "stream",
     "text": [
      "23/08/28 12:53:27 WARN Utils: Your hostname, Gabuwp resolves to a loopback address: 127.0.1.1; using 192.168.119.20 instead (on interface eth0)\n",
      "23/08/28 12:53:27 WARN Utils: Set SPARK_LOCAL_IP if you need to bind to another address\n"
     ]
    },
    {
     "name": "stderr",
     "output_type": "stream",
     "text": [
      "Setting default log level to \"WARN\".\n",
      "To adjust logging level use sc.setLogLevel(newLevel). For SparkR, use setLogLevel(newLevel).\n"
     ]
    },
    {
     "name": "stdout",
     "output_type": "stream",
     "text": [
      "23/08/28 12:53:29 WARN NativeCodeLoader: Unable to load native-hadoop library for your platform... using builtin-java classes where applicable\n",
      "23/08/28 12:53:29 WARN Utils: Service 'SparkUI' could not bind on port 4040. Attempting port 4041.\n",
      "23/08/28 12:53:29 WARN Utils: Service 'SparkUI' could not bind on port 4041. Attempting port 4042.\n"
     ]
    },
    {
     "data": {
      "text/html": [
       "\n",
       "            <div>\n",
       "                <p><b>SparkSession - in-memory</b></p>\n",
       "                \n",
       "        <div>\n",
       "            <p><b>SparkContext</b></p>\n",
       "\n",
       "            <p><a href=\"http://192.168.119.20:4042\">Spark UI</a></p>\n",
       "\n",
       "            <dl>\n",
       "              <dt>Version</dt>\n",
       "                <dd><code>v3.3.1</code></dd>\n",
       "              <dt>Master</dt>\n",
       "                <dd><code>local[*]</code></dd>\n",
       "              <dt>AppName</dt>\n",
       "                <dd><code>recomedacao</code></dd>\n",
       "            </dl>\n",
       "        </div>\n",
       "        \n",
       "            </div>\n",
       "        "
      ],
      "text/plain": [
       "<pyspark.sql.session.SparkSession at 0x7f598c1e9c90>"
      ]
     },
     "execution_count": 2,
     "metadata": {},
     "output_type": "execute_result"
    }
   ],
   "source": [
    "spark = SparkSession\\\n",
    "    .builder\\\n",
    "    .appName('recomedacao')\\\n",
    "    .getOrCreate()\n",
    "    \n",
    "spark"
   ]
  },
  {
   "cell_type": "code",
   "execution_count": 3,
   "id": "694ec108-12e8-44e5-8bec-e296e898a077",
   "metadata": {},
   "outputs": [
    {
     "name": "stdout",
     "output_type": "stream",
     "text": [
      "--2023-08-28 12:53:35--  https://caelum-online-public.s3.amazonaws.com/challenge-spark/semanas-3-e-4.zip\n",
      "Resolving caelum-online-public.s3.amazonaws.com (caelum-online-public.s3.amazonaws.com)... 52.216.104.131, 52.217.229.17, 52.216.109.11, ...\n",
      "Connecting to caelum-online-public.s3.amazonaws.com (caelum-online-public.s3.amazonaws.com)|52.216.104.131|:443... connected.\n",
      "HTTP request sent, awaiting response... 200 OK\n",
      "Length: 2588308 (2.5M) [application/zip]\n",
      "Saving to: ‘semanas-3-e-4.zip’\n",
      "\n",
      "semanas-3-e-4.zip   100%[===================>]   2.47M  2.38MB/s    in 1.0s    \n",
      "\n",
      "2023-08-28 12:53:37 (2.38 MB/s) - ‘semanas-3-e-4.zip’ saved [2588308/2588308]\n",
      "\n",
      "Archive:  semanas-3-e-4.zip\n",
      "   creating: dados/dataset_ml_parquet/\n",
      "  inflating: dados/dataset_ml_parquet/_SUCCESS  \n",
      "  inflating: dados/dataset_ml_parquet/._SUCCESS.crc  \n",
      "  inflating: dados/dataset_ml_parquet/part-00003-a14b227c-f87e-4893-b5f9-4163ed07cb37-c000.snappy.parquet  \n",
      "  inflating: dados/dataset_ml_parquet/part-00001-a14b227c-f87e-4893-b5f9-4163ed07cb37-c000.snappy.parquet  \n",
      "  inflating: dados/dataset_ml_parquet/part-00000-a14b227c-f87e-4893-b5f9-4163ed07cb37-c000.snappy.parquet  \n",
      "  inflating: dados/dataset_ml_parquet/.part-00003-a14b227c-f87e-4893-b5f9-4163ed07cb37-c000.snappy.parquet.crc  \n",
      "  inflating: dados/dataset_ml_parquet/part-00002-a14b227c-f87e-4893-b5f9-4163ed07cb37-c000.snappy.parquet  \n",
      "  inflating: dados/dataset_ml_parquet/.part-00001-a14b227c-f87e-4893-b5f9-4163ed07cb37-c000.snappy.parquet.crc  \n",
      "  inflating: dados/dataset_ml_parquet/.part-00002-a14b227c-f87e-4893-b5f9-4163ed07cb37-c000.snappy.parquet.crc  \n",
      "  inflating: dados/dataset_ml_parquet/.part-00000-a14b227c-f87e-4893-b5f9-4163ed07cb37-c000.snappy.parquet.crc  \n"
     ]
    }
   ],
   "source": [
    "!wget 'https://caelum-online-public.s3.amazonaws.com/challenge-spark/semanas-3-e-4.zip' && unzip semanas-3-e-4.zip -d dados/\n"
   ]
  },
  {
   "cell_type": "markdown",
   "id": "d035769f-f6c9-47ba-91be-5b0937fb4105",
   "metadata": {},
   "source": [
    "# Leitura dos dados"
   ]
  },
  {
   "cell_type": "code",
   "execution_count": 6,
   "id": "6f428cf5-fb4b-40d1-a6ec-4fc10a5a99f2",
   "metadata": {},
   "outputs": [
    {
     "name": "stdout",
     "output_type": "stream",
     "text": [
      "+--------------------+-----+---------+---------+-------+------+----+------------+----------+-----+--------+------------+----------+----------+--------+--------+------------------+-------------+------------------+--------+-------+----------+------------+-----------------+---------------+\n",
      "|                  id|andar|area_util|banheiros|quartos|suites|vaga|      bairro|condominio| iptu|   valor|Zona Central|Zona Norte|Zona Oeste|Zona Sul|Academia|Animais permitidos|Churrasqueira|Condomínio fechado|Elevador|Piscina|Playground|Portaria 24h|Portão eletrônico|Salão de festas|\n",
      "+--------------------+-----+---------+---------+-------+------+----+------------+----------+-----+--------+------------+----------+----------+--------+--------+------------------+-------------+------------------+--------+-------+----------+------------+-----------------+---------------+\n",
      "|00002dd9-cc74-480...|    2|       35|        1|      1|   0.0| 0.0|Santo Cristo|     100.0|100.0|245000.0|           1|         0|         0|       0|       1|                 1|            1|                 1|       1|      1|         1|           1|                1|              1|\n",
      "|0009ca94-2b37-438...|    1|       84|        2|      2|   0.0| 1.0|      Tijuca|     770.0|105.0|474980.0|           0|         1|         0|       0|       0|                 0|            1|                 0|       1|      0|         1|           1|                0|              1|\n",
      "|000e3d28-e3e5-411...|    0|       85|        2|      2|   0.0| 0.0|Santa Teresa|     460.0|661.0|290000.0|           0|         0|         0|       1|       0|                 1|            0|                 0|       1|      0|         0|           0|                0|              0|\n",
      "|000fb707-6cad-496...|    0|       58|        1|      2|   0.0| 1.0|   Pechincha|     550.0|550.0|249000.0|           0|         0|         1|       0|       0|                 0|            0|                 0|       0|      1|         1|           0|                0|              0|\n",
      "|001b6db0-e88d-4eb...|    0|       64|        2|      2|   1.0| 1.0|      Tijuca|     850.0|  0.0|530000.0|           0|         1|         0|       0|       0|                 0|            0|                 0|       0|      0|         0|           0|                0|              0|\n",
      "+--------------------+-----+---------+---------+-------+------+----+------------+----------+-----+--------+------------+----------+----------+--------+--------+------------------+-------------+------------------+--------+-------+----------+------------+-----------------+---------------+\n",
      "only showing top 5 rows\n",
      "\n"
     ]
    }
   ],
   "source": [
    "dados = spark.read.parquet(\"dados/dataset_ml_parquet\")\n",
    "dados.show(5)"
   ]
  },
  {
   "cell_type": "code",
   "execution_count": 7,
   "id": "8b360336-2e0c-4f4f-bee4-68afe30038c8",
   "metadata": {},
   "outputs": [
    {
     "name": "stdout",
     "output_type": "stream",
     "text": [
      "root\n",
      " |-- id: string (nullable = true)\n",
      " |-- andar: integer (nullable = true)\n",
      " |-- area_util: integer (nullable = true)\n",
      " |-- banheiros: integer (nullable = true)\n",
      " |-- quartos: integer (nullable = true)\n",
      " |-- suites: double (nullable = true)\n",
      " |-- vaga: double (nullable = true)\n",
      " |-- bairro: string (nullable = true)\n",
      " |-- condominio: double (nullable = true)\n",
      " |-- iptu: double (nullable = true)\n",
      " |-- valor: double (nullable = true)\n",
      " |-- Zona Central: integer (nullable = true)\n",
      " |-- Zona Norte: integer (nullable = true)\n",
      " |-- Zona Oeste: integer (nullable = true)\n",
      " |-- Zona Sul: integer (nullable = true)\n",
      " |-- Academia: integer (nullable = true)\n",
      " |-- Animais permitidos: integer (nullable = true)\n",
      " |-- Churrasqueira: integer (nullable = true)\n",
      " |-- Condomínio fechado: integer (nullable = true)\n",
      " |-- Elevador: integer (nullable = true)\n",
      " |-- Piscina: integer (nullable = true)\n",
      " |-- Playground: integer (nullable = true)\n",
      " |-- Portaria 24h: integer (nullable = true)\n",
      " |-- Portão eletrônico: integer (nullable = true)\n",
      " |-- Salão de festas: integer (nullable = true)\n",
      "\n"
     ]
    }
   ],
   "source": [
    "dados.printSchema()"
   ]
  },
  {
   "cell_type": "code",
   "execution_count": 8,
   "id": "1917cea6-44f6-449b-8548-d890384eae6d",
   "metadata": {},
   "outputs": [
    {
     "name": "stdout",
     "output_type": "stream",
     "text": [
      "Quantidade de linhas: 66551\n",
      "Quantidade de colunas: 25\n"
     ]
    }
   ],
   "source": [
    "print(f\"Quantidade de linhas: {dados.count()}\")\n",
    "print(f\"Quantidade de colunas: {len(dados.columns)}\")"
   ]
  },
  {
   "cell_type": "code",
   "execution_count": 9,
   "id": "89d9f63c-febb-4e59-8be6-fae79aa0e89d",
   "metadata": {},
   "outputs": [],
   "source": [
    "import pyspark.sql.functions as f\n"
   ]
  },
  {
   "cell_type": "code",
   "execution_count": 10,
   "id": "56b56fc0-3df2-4764-bc60-a26befdc3b71",
   "metadata": {},
   "outputs": [
    {
     "name": "stdout",
     "output_type": "stream",
     "text": [
      "+---+-----+---------+---------+-------+------+----+------+----------+----+-----+------------+----------+----------+--------+--------+------------------+-------------+------------------+--------+-------+----------+------------+-----------------+---------------+\n",
      "| id|andar|area_util|banheiros|quartos|suites|vaga|bairro|condominio|iptu|valor|Zona Central|Zona Norte|Zona Oeste|Zona Sul|Academia|Animais permitidos|Churrasqueira|Condomínio fechado|Elevador|Piscina|Playground|Portaria 24h|Portão eletrônico|Salão de festas|\n",
      "+---+-----+---------+---------+-------+------+----+------+----------+----+-----+------------+----------+----------+--------+--------+------------------+-------------+------------------+--------+-------+----------+------------+-----------------+---------------+\n",
      "|  0|    0|        0|        0|      0|     0|   0|     0|         0|   0|    0|           0|         0|         0|       0|       0|                 0|            0|                 0|       0|      0|         0|           0|                0|              0|\n",
      "+---+-----+---------+---------+-------+------+----+------+----------+----+-----+------------+----------+----------+--------+--------+------------------+-------------+------------------+--------+-------+----------+------------+-----------------+---------------+\n",
      "\n"
     ]
    }
   ],
   "source": [
    "dados.select([f.count(f.when(f.isnull(c), 1)).alias(c) for c in dados.columns]).show()\n"
   ]
  },
  {
   "cell_type": "markdown",
   "id": "8eba9bc9-f470-48fb-9e8c-0972a625aaa6",
   "metadata": {},
   "source": [
    "# Preparando os dados"
   ]
  },
  {
   "cell_type": "code",
   "execution_count": 11,
   "id": "befd60df-01fd-4a82-a4ab-8f617e59e331",
   "metadata": {},
   "outputs": [],
   "source": [
    "from pyspark.ml.feature import VectorAssembler\n"
   ]
  },
  {
   "cell_type": "code",
   "execution_count": 12,
   "id": "27465624-90e6-47b7-bc6b-21d214760704",
   "metadata": {},
   "outputs": [
    {
     "data": {
      "text/plain": [
       "['id',\n",
       " 'andar',\n",
       " 'area_util',\n",
       " 'banheiros',\n",
       " 'quartos',\n",
       " 'suites',\n",
       " 'vaga',\n",
       " 'bairro',\n",
       " 'condominio',\n",
       " 'iptu',\n",
       " 'valor',\n",
       " 'Zona Central',\n",
       " 'Zona Norte',\n",
       " 'Zona Oeste',\n",
       " 'Zona Sul',\n",
       " 'Academia',\n",
       " 'Animais permitidos',\n",
       " 'Churrasqueira',\n",
       " 'Condomínio fechado',\n",
       " 'Elevador',\n",
       " 'Piscina',\n",
       " 'Playground',\n",
       " 'Portaria 24h',\n",
       " 'Portão eletrônico',\n",
       " 'Salão de festas']"
      ]
     },
     "execution_count": 12,
     "metadata": {},
     "output_type": "execute_result"
    }
   ],
   "source": [
    "dados.columns\n"
   ]
  },
  {
   "cell_type": "code",
   "execution_count": 13,
   "id": "e0b91396-eda9-4963-b90c-0f928a23f03d",
   "metadata": {},
   "outputs": [
    {
     "data": {
      "text/plain": [
       "['andar',\n",
       " 'area_util',\n",
       " 'banheiros',\n",
       " 'quartos',\n",
       " 'suites',\n",
       " 'vaga',\n",
       " 'condominio',\n",
       " 'iptu',\n",
       " 'valor',\n",
       " 'Zona Central',\n",
       " 'Zona Norte',\n",
       " 'Zona Oeste',\n",
       " 'Zona Sul',\n",
       " 'Academia',\n",
       " 'Animais permitidos',\n",
       " 'Churrasqueira',\n",
       " 'Condomínio fechado',\n",
       " 'Elevador',\n",
       " 'Piscina',\n",
       " 'Playground',\n",
       " 'Portaria 24h',\n",
       " 'Portão eletrônico',\n",
       " 'Salão de festas']"
      ]
     },
     "execution_count": 13,
     "metadata": {},
     "output_type": "execute_result"
    }
   ],
   "source": [
    "X = dados.columns\n",
    "X.remove('id')\n",
    "X.remove('bairro')\n",
    "X"
   ]
  },
  {
   "cell_type": "code",
   "execution_count": 14,
   "id": "58ba3307-72be-4345-a87d-fc4e5413f607",
   "metadata": {},
   "outputs": [],
   "source": [
    "vecAssembler = VectorAssembler(inputCols=X, outputCol='features')"
   ]
  },
  {
   "cell_type": "code",
   "execution_count": 15,
   "id": "9d63336e-3d37-4396-96c0-c52351fbe2a5",
   "metadata": {},
   "outputs": [],
   "source": [
    "dados_vector = vecAssembler.transform(dados).select(['features'])"
   ]
  },
  {
   "cell_type": "code",
   "execution_count": 16,
   "id": "8f963242-5001-47ef-afd4-2a7b28a5aaa5",
   "metadata": {},
   "outputs": [
    {
     "name": "stdout",
     "output_type": "stream",
     "text": [
      "23/08/28 14:09:49 WARN package: Truncated the string representation of a plan since it was too large. This behavior can be adjusted by setting 'spark.sql.debug.maxToStringFields'.\n",
      "+------------------------------------------------------------------------------------------------------------+\n",
      "|features                                                                                                    |\n",
      "+------------------------------------------------------------------------------------------------------------+\n",
      "|[2.0,35.0,1.0,1.0,0.0,0.0,100.0,100.0,245000.0,1.0,0.0,0.0,0.0,1.0,1.0,1.0,1.0,1.0,1.0,1.0,1.0,1.0,1.0]     |\n",
      "|(23,[0,1,2,3,5,6,7,8,10,15,17,19,20,22],[1.0,84.0,2.0,2.0,1.0,770.0,105.0,474980.0,1.0,1.0,1.0,1.0,1.0,1.0])|\n",
      "|(23,[1,2,3,6,7,8,12,14,17],[85.0,2.0,2.0,460.0,661.0,290000.0,1.0,1.0,1.0])                                 |\n",
      "|(23,[1,2,3,5,6,7,8,11,18,19],[58.0,1.0,2.0,1.0,550.0,550.0,249000.0,1.0,1.0,1.0])                           |\n",
      "|(23,[1,2,3,4,5,6,8,10],[64.0,2.0,2.0,1.0,1.0,850.0,530000.0,1.0])                                           |\n",
      "+------------------------------------------------------------------------------------------------------------+\n",
      "only showing top 5 rows\n",
      "\n"
     ]
    }
   ],
   "source": [
    "dados_vector.show(truncate=False, n=5)"
   ]
  },
  {
   "cell_type": "markdown",
   "id": "e9a1e43c-9f31-4960-9a09-7e6c7bcea221",
   "metadata": {},
   "source": [
    "# Padronizando os dados"
   ]
  },
  {
   "cell_type": "code",
   "execution_count": 17,
   "id": "e9a7513e-4dea-45c1-9c21-7cdf64e67c45",
   "metadata": {},
   "outputs": [],
   "source": [
    "from pyspark.ml.feature import StandardScaler\n"
   ]
  },
  {
   "cell_type": "code",
   "execution_count": 18,
   "id": "c8a2f68c-5474-4ea8-8e93-99143b53575b",
   "metadata": {},
   "outputs": [
    {
     "name": "stderr",
     "output_type": "stream",
     "text": [
      "                                                                                \r"
     ]
    }
   ],
   "source": [
    "scaler = StandardScaler(inputCol='features', outputCol='scaled_features')\n",
    "scaler_model = scaler.fit(dados_vector)\n",
    "dados_scaler = scaler_model.transform(dados_vector)"
   ]
  },
  {
   "cell_type": "code",
   "execution_count": 19,
   "id": "8e246934-d8a0-4252-98b4-496047074d00",
   "metadata": {},
   "outputs": [
    {
     "name": "stdout",
     "output_type": "stream",
     "text": [
      "+--------------------+--------------------+\n",
      "|            features|     scaled_features|\n",
      "+--------------------+--------------------+\n",
      "|[2.0,35.0,1.0,1.0...|[0.13607726247524...|\n",
      "|(23,[0,1,2,3,5,6,...|(23,[0,1,2,3,5,6,...|\n",
      "|(23,[1,2,3,6,7,8,...|(23,[1,2,3,6,7,8,...|\n",
      "|(23,[1,2,3,5,6,7,...|(23,[1,2,3,5,6,7,...|\n",
      "|(23,[1,2,3,4,5,6,...|(23,[1,2,3,4,5,6,...|\n",
      "+--------------------+--------------------+\n",
      "only showing top 5 rows\n",
      "\n"
     ]
    }
   ],
   "source": [
    "dados_scaler.show(5)"
   ]
  },
  {
   "cell_type": "markdown",
   "id": "720846d8-5452-4e5e-8695-2fd43ffb0caf",
   "metadata": {},
   "source": [
    "# Redução de dimensionalidade"
   ]
  },
  {
   "cell_type": "code",
   "execution_count": 20,
   "id": "f43ed72d-e105-4d2a-a44a-c9e0e19527f4",
   "metadata": {},
   "outputs": [],
   "source": [
    "from pyspark.ml.feature import PCA"
   ]
  },
  {
   "cell_type": "code",
   "execution_count": 21,
   "id": "c9f9c717-3463-4bd6-abc1-4908932b8d3d",
   "metadata": {},
   "outputs": [
    {
     "name": "stderr",
     "output_type": "stream",
     "text": [
      "                                                                                \r"
     ]
    },
    {
     "name": "stdout",
     "output_type": "stream",
     "text": [
      "23/08/28 14:10:58 WARN InstanceBuilder$NativeBLAS: Failed to load implementation from:dev.ludovic.netlib.blas.JNIBLAS\n",
      "23/08/28 14:10:58 WARN InstanceBuilder$NativeBLAS: Failed to load implementation from:dev.ludovic.netlib.blas.ForeignLinkerBLAS\n"
     ]
    },
    {
     "name": "stderr",
     "output_type": "stream",
     "text": [
      "                                                                                \r"
     ]
    },
    {
     "name": "stdout",
     "output_type": "stream",
     "text": [
      "23/08/28 14:10:59 WARN LAPACK: Failed to load implementation from: com.github.fommil.netlib.NativeSystemLAPACK\n",
      "23/08/28 14:10:59 WARN LAPACK: Failed to load implementation from: com.github.fommil.netlib.NativeRefLAPACK\n"
     ]
    }
   ],
   "source": [
    "pca = PCA(k=2, inputCol='scaled_features', outputCol='pca_features')\n",
    "model_pca = pca.fit(dados_scaler)\n",
    "dados_pca = model_pca.transform(dados_scaler)"
   ]
  },
  {
   "cell_type": "code",
   "execution_count": 22,
   "id": "1e5a3ce6-370d-4a4b-a38c-c93af4de52f4",
   "metadata": {},
   "outputs": [
    {
     "name": "stdout",
     "output_type": "stream",
     "text": [
      "+------------------------------------------+\n",
      "|pca_features                              |\n",
      "+------------------------------------------+\n",
      "|[-6.165125049533941,1.3380985269404202]   |\n",
      "|[-3.252911181218317,-1.1179591836230234]  |\n",
      "|[-1.0611769329629646,-1.668504005869305]  |\n",
      "|[-1.9958119007837098,-1.7655796610848917] |\n",
      "|[-0.41814060701449185,-2.1310407911416687]|\n",
      "+------------------------------------------+\n",
      "only showing top 5 rows\n",
      "\n"
     ]
    }
   ],
   "source": [
    "dados_pca.select('pca_features').show(5, truncate=False)"
   ]
  },
  {
   "cell_type": "markdown",
   "id": "65bc27b3-e9e6-4503-a331-92bebc2dd0fb",
   "metadata": {},
   "source": [
    "# Extra: Construindo um pipeline"
   ]
  },
  {
   "cell_type": "code",
   "execution_count": 23,
   "id": "790d54ff-a241-4e62-8692-0d6439f62871",
   "metadata": {},
   "outputs": [],
   "source": [
    "from pyspark.ml import Pipeline"
   ]
  },
  {
   "cell_type": "code",
   "execution_count": 24,
   "id": "e7d0c141-0630-4827-8abe-2412e0a418c1",
   "metadata": {},
   "outputs": [],
   "source": [
    "pca_pipeline = Pipeline(stages=[vecAssembler, scaler, pca])\n"
   ]
  },
  {
   "cell_type": "code",
   "execution_count": 25,
   "id": "f7ff4305-2e31-4e82-817e-526e0a53b289",
   "metadata": {},
   "outputs": [],
   "source": [
    "pca_pipeline_model = pca_pipeline.fit(dados)\n"
   ]
  },
  {
   "cell_type": "code",
   "execution_count": 26,
   "id": "fac20f94-e8a5-4fbf-84c1-378f23d42656",
   "metadata": {},
   "outputs": [],
   "source": [
    "dados_pca = pca_pipeline_model.transform(dados)"
   ]
  },
  {
   "cell_type": "code",
   "execution_count": 27,
   "id": "ced8694c-5432-4bcc-a8a7-68687fa67b2d",
   "metadata": {},
   "outputs": [
    {
     "name": "stdout",
     "output_type": "stream",
     "text": [
      "+--------------------+-----+---------+---------+-------+------+----+------------+----------+-----+--------+------------+----------+----------+--------+--------+------------------+-------------+------------------+--------+-------+----------+------------+-----------------+---------------+--------------------+--------------------+--------------------+\n",
      "|                  id|andar|area_util|banheiros|quartos|suites|vaga|      bairro|condominio| iptu|   valor|Zona Central|Zona Norte|Zona Oeste|Zona Sul|Academia|Animais permitidos|Churrasqueira|Condomínio fechado|Elevador|Piscina|Playground|Portaria 24h|Portão eletrônico|Salão de festas|            features|     scaled_features|        pca_features|\n",
      "+--------------------+-----+---------+---------+-------+------+----+------------+----------+-----+--------+------------+----------+----------+--------+--------+------------------+-------------+------------------+--------+-------+----------+------------+-----------------+---------------+--------------------+--------------------+--------------------+\n",
      "|00002dd9-cc74-480...|    2|       35|        1|      1|   0.0| 0.0|Santo Cristo|     100.0|100.0|245000.0|           1|         0|         0|       0|       1|                 1|            1|                 1|       1|      1|         1|           1|                1|              1|[2.0,35.0,1.0,1.0...|[0.13607726247524...|[-6.1651250495339...|\n",
      "|0009ca94-2b37-438...|    1|       84|        2|      2|   0.0| 1.0|      Tijuca|     770.0|105.0|474980.0|           0|         1|         0|       0|       0|                 0|            1|                 0|       1|      0|         1|           1|                0|              1|(23,[0,1,2,3,5,6,...|(23,[0,1,2,3,5,6,...|[-3.2529111812183...|\n",
      "|000e3d28-e3e5-411...|    0|       85|        2|      2|   0.0| 0.0|Santa Teresa|     460.0|661.0|290000.0|           0|         0|         0|       1|       0|                 1|            0|                 0|       1|      0|         0|           0|                0|              0|(23,[1,2,3,6,7,8,...|(23,[1,2,3,6,7,8,...|[-1.0611769329629...|\n",
      "|000fb707-6cad-496...|    0|       58|        1|      2|   0.0| 1.0|   Pechincha|     550.0|550.0|249000.0|           0|         0|         1|       0|       0|                 0|            0|                 0|       0|      1|         1|           0|                0|              0|(23,[1,2,3,5,6,7,...|(23,[1,2,3,5,6,7,...|[-1.9958119007837...|\n",
      "|001b6db0-e88d-4eb...|    0|       64|        2|      2|   1.0| 1.0|      Tijuca|     850.0|  0.0|530000.0|           0|         1|         0|       0|       0|                 0|            0|                 0|       0|      0|         0|           0|                0|              0|(23,[1,2,3,4,5,6,...|(23,[1,2,3,4,5,6,...|[-0.4181406070144...|\n",
      "+--------------------+-----+---------+---------+-------+------+----+------------+----------+-----+--------+------------+----------+----------+--------+--------+------------------+-------------+------------------+--------+-------+----------+------------+-----------------+---------------+--------------------+--------------------+--------------------+\n",
      "only showing top 5 rows\n",
      "\n"
     ]
    }
   ],
   "source": [
    "dados_pca.show(5)\n"
   ]
  },
  {
   "cell_type": "code",
   "execution_count": 28,
   "id": "926473cd-118c-4985-b929-987a120ab4de",
   "metadata": {},
   "outputs": [
    {
     "name": "stdout",
     "output_type": "stream",
     "text": [
      "+------------------------------------------+\n",
      "|pca_features                              |\n",
      "+------------------------------------------+\n",
      "|[-6.165125049533941,1.3380985269404195]   |\n",
      "|[-3.2529111812183165,-1.1179591836230236] |\n",
      "|[-1.0611769329629643,-1.668504005869304]  |\n",
      "|[-1.9958119007837098,-1.7655796610848915] |\n",
      "|[-0.4181406070144919,-2.1310407911416682] |\n",
      "|[-6.901523864979939,-6.262240376053232]   |\n",
      "|[-0.7164221492881624,-1.4040232409556406] |\n",
      "|[-1.4856960209871883,-1.780850707341442]  |\n",
      "|[-6.045628320891713,-7.824880763294963]   |\n",
      "|[-6.199240571378156,0.31242092235474406]  |\n",
      "|[-6.884681111573794,-1.0506751049281162]  |\n",
      "|[-4.613470387276728,-4.014655897062529]   |\n",
      "|[-4.4763270618051685,-3.8649262122152934] |\n",
      "|[-0.9935595784850196,-2.924454860845293]  |\n",
      "|[-3.164519253343427,-2.145186138172064]   |\n",
      "|[-3.546059940548771,-4.655748957792847]   |\n",
      "|[-7.507064348067451,-5.873363966077192]   |\n",
      "|[-0.6502007974668906,-0.4434774122064886] |\n",
      "|[-0.12715321773616461,-1.1961148588302148]|\n",
      "|[-2.8493633914846948,-1.0413877168057164] |\n",
      "+------------------------------------------+\n",
      "only showing top 20 rows\n",
      "\n"
     ]
    }
   ],
   "source": [
    "dados_pca.select('pca_features').show(truncate=False)"
   ]
  },
  {
   "cell_type": "markdown",
   "id": "3e2b757e-7ec7-42ca-b116-d7a759314486",
   "metadata": {},
   "source": [
    "# Criando nossos cluster com KMeans"
   ]
  },
  {
   "cell_type": "code",
   "execution_count": 29,
   "id": "660e5610-eb16-45e3-97e3-6b0d21a871eb",
   "metadata": {},
   "outputs": [],
   "source": [
    "from pyspark.ml.clustering import KMeans\n"
   ]
  },
  {
   "cell_type": "code",
   "execution_count": 30,
   "id": "65282f4b-09e9-4637-b27d-a580b4237230",
   "metadata": {},
   "outputs": [],
   "source": [
    "SEED = 1224"
   ]
  },
  {
   "cell_type": "code",
   "execution_count": 31,
   "id": "093387b5-b2c5-4eeb-be65-e4c550b53276",
   "metadata": {},
   "outputs": [],
   "source": [
    "kmeans = KMeans(featuresCol='pca_features', predictionCol='cluster_pca', k=5, seed=SEED)\n"
   ]
  },
  {
   "cell_type": "code",
   "execution_count": 32,
   "id": "854a44eb-5211-4c9e-bca6-a6846c795df6",
   "metadata": {},
   "outputs": [
    {
     "name": "stderr",
     "output_type": "stream",
     "text": [
      "                                                                                \r"
     ]
    }
   ],
   "source": [
    "model_kmeans = kmeans.fit(dados_pca)"
   ]
  },
  {
   "cell_type": "code",
   "execution_count": 33,
   "id": "5ed1ce2b-7046-4db4-b479-40304ef617c3",
   "metadata": {},
   "outputs": [],
   "source": [
    "predictions_kmeans = model_kmeans.transform(dados_pca)\n"
   ]
  },
  {
   "cell_type": "code",
   "execution_count": 34,
   "id": "c1835f3b-b2f9-4447-ab0e-fb6ad926bb5d",
   "metadata": {},
   "outputs": [
    {
     "name": "stdout",
     "output_type": "stream",
     "text": [
      "+-----------------------------------------+-----------+\n",
      "|pca_features                             |cluster_pca|\n",
      "+-----------------------------------------+-----------+\n",
      "|[-6.165125049533941,1.3380985269404195]  |2          |\n",
      "|[-3.2529111812183165,-1.1179591836230236]|3          |\n",
      "|[-1.0611769329629643,-1.668504005869304] |0          |\n",
      "|[-1.9958119007837098,-1.7655796610848915]|0          |\n",
      "|[-0.4181406070144919,-2.1310407911416682]|0          |\n",
      "+-----------------------------------------+-----------+\n",
      "only showing top 5 rows\n",
      "\n"
     ]
    }
   ],
   "source": [
    "predictions_kmeans.select('pca_features', 'cluster_pca').show(5, truncate=False)\n"
   ]
  },
  {
   "cell_type": "markdown",
   "id": "106a5f09-724a-401b-9c94-624e0c15b201",
   "metadata": {},
   "source": [
    "# Extra: Avaliando os clusters"
   ]
  },
  {
   "cell_type": "code",
   "execution_count": 35,
   "id": "d18f8598-670b-419e-b73c-6da07db6681a",
   "metadata": {},
   "outputs": [
    {
     "name": "stdout",
     "output_type": "stream",
     "text": [
      "+-----------+----------+-----------------+------------------+-------------+-----------+---------------+------------+------------------+------------------+\n",
      "|cluster_pca|quantidade|      valor_medio|        area_media|quartos_medio|vagas_medio|banheiros_medio|suites_medio|  condominio_medio|        iptu_medio|\n",
      "+-----------+----------+-----------------+------------------+-------------+-----------+---------------+------------+------------------+------------------+\n",
      "|          0|     16435|731467.9844234865| 79.44192272588987|          2.0|        1.0|            2.0|         0.0|1463.4741101308184|1374.2049285062367|\n",
      "|          1|      9597|2379548.694487861|187.58382827967074|          3.0|        2.0|            4.0|         2.0| 6168.435135979994| 11766.30363655309|\n",
      "|          2|     20629|878542.7852052936| 91.84948373648747|          3.0|        1.0|            2.0|         1.0| 4347.608754665762| 3676.641184739929|\n",
      "|          3|     14620|805741.3774281805| 83.46983584131327|          2.0|        1.0|            2.0|         1.0|3404.6025307797536| 2066.920314637483|\n",
      "|          4|      5270|4057935.510056926| 293.7548387096774|          4.0|        3.0|            5.0|         3.0|16480.335863377608|15525.164326375712|\n",
      "+-----------+----------+-----------------+------------------+-------------+-----------+---------------+------------+------------------+------------------+\n",
      "\n"
     ]
    }
   ],
   "source": [
    "dados_pca\\\n",
    "    .join(predictions_kmeans.select('id', 'cluster_pca'), on='id')\\\n",
    "    .groupBy('cluster_pca')\\\n",
    "    .agg(\n",
    "        f.count('id').alias('quantidade'),\n",
    "        f.mean('valor').alias('valor_medio'),\n",
    "        f.mean('area_util').alias('area_media'),\n",
    "        f.round(f.mean('quartos'),0).alias('quartos_medio'),\n",
    "        f.round(f.mean('vaga'), 0).alias('vagas_medio'),\n",
    "        f.round(f.mean('banheiros'), 0).alias('banheiros_medio'),\n",
    "        f.round(f.mean('suites'), 0).alias('suites_medio'),\n",
    "        f.mean('condominio').alias('condominio_medio'),\n",
    "        f.mean('iptu').alias('iptu_medio'),\n",
    "    )\\\n",
    "    .orderBy('cluster_pca')\\\n",
    "    .show()"
   ]
  },
  {
   "cell_type": "markdown",
   "id": "90497554-62d9-49ad-98f0-c0da9c919c16",
   "metadata": {},
   "source": [
    "# Extra: Encontrar o numero ideal de componentes"
   ]
  },
  {
   "cell_type": "code",
   "execution_count": 36,
   "id": "7646fcc4-b8b8-46c7-8ec5-904d6a763112",
   "metadata": {},
   "outputs": [
    {
     "data": {
      "text/plain": [
       "DenseVector([0.2655, 0.1721])"
      ]
     },
     "execution_count": 36,
     "metadata": {},
     "output_type": "execute_result"
    }
   ],
   "source": [
    "pca_pipeline_model.stages[2].explainedVariance\n"
   ]
  },
  {
   "cell_type": "code",
   "execution_count": 37,
   "id": "4ea0e056-806e-4444-bb82-88f1faab7edd",
   "metadata": {},
   "outputs": [
    {
     "data": {
      "text/plain": [
       "['andar',\n",
       " 'area_util',\n",
       " 'banheiros',\n",
       " 'quartos',\n",
       " 'suites',\n",
       " 'vaga',\n",
       " 'condominio',\n",
       " 'iptu',\n",
       " 'valor',\n",
       " 'Zona Central',\n",
       " 'Zona Norte',\n",
       " 'Zona Oeste',\n",
       " 'Zona Sul',\n",
       " 'Academia',\n",
       " 'Animais permitidos',\n",
       " 'Churrasqueira',\n",
       " 'Condomínio fechado',\n",
       " 'Elevador',\n",
       " 'Piscina',\n",
       " 'Playground',\n",
       " 'Portaria 24h',\n",
       " 'Portão eletrônico',\n",
       " 'Salão de festas']"
      ]
     },
     "execution_count": 37,
     "metadata": {},
     "output_type": "execute_result"
    }
   ],
   "source": [
    "# Colunas do conjunto de dados: \n",
    "X"
   ]
  },
  {
   "cell_type": "code",
   "execution_count": 38,
   "id": "f28bbe9b-baf4-475a-848e-d3893a1c064e",
   "metadata": {},
   "outputs": [
    {
     "data": {
      "text/plain": [
       "23"
      ]
     },
     "execution_count": 38,
     "metadata": {},
     "output_type": "execute_result"
    }
   ],
   "source": [
    "\n",
    "# Quantidade de colunas existentes\n",
    "k = len(X)\n",
    "k"
   ]
  },
  {
   "cell_type": "code",
   "execution_count": 39,
   "id": "c8d6bad2-a25b-441f-969a-32c54f45fd9e",
   "metadata": {},
   "outputs": [
    {
     "name": "stdout",
     "output_type": "stream",
     "text": [
      "+-----------------------------------------+\n",
      "|pca_features                             |\n",
      "+-----------------------------------------+\n",
      "|[-6.165125049533941,1.3380985269404195]  |\n",
      "|[-3.2529111812183165,-1.1179591836230236]|\n",
      "|[-1.0611769329629643,-1.668504005869304] |\n",
      "|[-1.9958119007837098,-1.7655796610848915]|\n",
      "|[-0.4181406070144919,-2.1310407911416682]|\n",
      "+-----------------------------------------+\n",
      "only showing top 5 rows\n",
      "\n"
     ]
    }
   ],
   "source": [
    "dados_pca.select(\"pca_features\").show(5, truncate=False)"
   ]
  },
  {
   "cell_type": "code",
   "execution_count": 40,
   "id": "ae2cbfd6-9e52-44ca-b0a6-bb398fb6dc22",
   "metadata": {},
   "outputs": [],
   "source": [
    "pca = PCA(k=k, inputCol='scaled_features', outputCol='pca_features')\n",
    "model_pca = pca.fit(dados_pca.drop('pca_features'))\n",
    "dados_imoveis_pca = model_pca.transform(dados_pca.drop('pca_features'))"
   ]
  },
  {
   "cell_type": "code",
   "execution_count": 41,
   "id": "f038174a-34f4-4934-959c-73ffae3b0bb1",
   "metadata": {},
   "outputs": [
    {
     "name": "stdout",
     "output_type": "stream",
     "text": [
      "+------------------------------------------------------------------------------------------------------------------------------------------------------------------------------------------------------------------------------------------------------------------------------------------------------------------------------------------------------------------------------------------------------------------------------------------------------------------------------------+\n",
      "|pca_features                                                                                                                                                                                                                                                                                                                                                                                                                                                                        |\n",
      "+------------------------------------------------------------------------------------------------------------------------------------------------------------------------------------------------------------------------------------------------------------------------------------------------------------------------------------------------------------------------------------------------------------------------------------------------------------------------------------+\n",
      "|[-6.165125049533941,1.3380985269404184,-1.705229982381551,-0.5338289630545667,0.08903815478586515,-0.3134396180249552,-5.8806837426925975,-4.346312930649963,-0.14234336921634602,-0.36271345636451174,0.08534588822464703,1.1262234172118324,-0.7941303747524023,-1.0719651521551592,-0.05747066203320961,-0.22780813013925064,-0.13916953835396004,0.029914109262355222,-0.45943592511118103,-0.23340976223636706,0.09079393549963079,0.23673392418148065,-1.2628719820694145]    |\n",
      "|[-3.252911181218317,-1.1179591836230234,-0.2923895841499691,3.1955388200208494,0.1528630698218365,1.3028930490659645,-0.43693999810125106,0.052052994673685,-0.06666040498278658,-0.1407137678277536,-0.7553968915530711,1.627879424475367,-1.2695587089740943,-0.2969896602836073,0.5454147917103016,-1.3908083285774615,-0.5488404327753811,0.5270567409832683,-0.37238659121757844,0.815212068098162,-1.2354391093244288,0.28039978243510816,-1.2628719820692624]                |\n",
      "|[-1.0611769329629648,-1.6685040058693048,-2.3075948278392096,0.1055312412577168,-0.06914386452865645,0.7187181899564268,0.08236222790223591,0.1478059482303572,-0.08418105529257218,-0.6935314481387346,-1.4570449355256638,1.4316765886869354,-0.858812983341571,-1.137808638816273,-1.5976012843849434,0.3786591392460424,0.13556311504093974,-0.011784886732500312,-0.48385528870313427,-0.1425804702352914,0.00831349276975038,-0.019469432956819972,-1.2628719820689878]       |\n",
      "|[-1.99581190078371,-1.7655796610848893,1.357196249867291,-0.16336519381191833,-0.02130522784693384,0.12808044918263417,0.09866659845289086,0.14549465988175297,-0.04457490518979128,0.016198217006799298,0.1949945296565646,1.1326599972620497,-1.0584080245207939,-0.5832977674969176,0.2476794914620263,-0.11032186046578879,0.39433544021464,-1.532533951299814,-0.44084223319163945,-1.4553622855879051,-0.33208690858853473,0.08855216823140133,-1.2628719820682341]           |\n",
      "|[-0.41814060701449207,-2.1310407911416673,-0.10264099265013295,2.8099164150391376,-0.04295628469830118,-0.09449068767387603,-0.17917750563158769,-0.24397011993698065,-0.06870981755383736,-0.4702306565173715,0.0973812464968634,0.5108941966797647,0.013305323654654588,-0.9241465991076332,0.19286043033655628,0.22671771411668662,0.20277275325234292,-0.07632402487172484,0.0210958930353495,-0.06317864131274775,-0.11798670770066273,0.28955853769742557,-1.2628719820687158]|\n",
      "+------------------------------------------------------------------------------------------------------------------------------------------------------------------------------------------------------------------------------------------------------------------------------------------------------------------------------------------------------------------------------------------------------------------------------------------------------------------------------------+\n",
      "only showing top 5 rows\n",
      "\n"
     ]
    }
   ],
   "source": [
    "dados_imoveis_pca.select(\"pca_features\").show(5, truncate=False)\n"
   ]
  },
  {
   "cell_type": "code",
   "execution_count": 42,
   "id": "64a8c80d-a883-4a63-9d7a-476ac9ae4eac",
   "metadata": {},
   "outputs": [
    {
     "data": {
      "text/plain": [
       "99.99999999999997"
      ]
     },
     "execution_count": 42,
     "metadata": {},
     "output_type": "execute_result"
    }
   ],
   "source": [
    "sum(model_pca.explainedVariance) * 100"
   ]
  },
  {
   "cell_type": "code",
   "execution_count": 43,
   "id": "e4ec18dd-b486-4a24-9d74-78364546d3bc",
   "metadata": {},
   "outputs": [
    {
     "data": {
      "text/plain": [
       "array([2.65457494e-01, 1.72067301e-01, 9.12744818e-02, 5.43737219e-02,\n",
       "       5.22298117e-02, 4.66203459e-02, 4.42659008e-02, 4.16021312e-02,\n",
       "       3.46818214e-02, 2.72266440e-02, 2.43947461e-02, 2.01043117e-02,\n",
       "       1.92103152e-02, 1.76122901e-02, 1.55070658e-02, 1.38947785e-02,\n",
       "       1.20074124e-02, 1.13351577e-02, 1.01096341e-02, 9.23012235e-03,\n",
       "       8.89844650e-03, 7.89606599e-03, 3.47810904e-15])"
      ]
     },
     "execution_count": 43,
     "metadata": {},
     "output_type": "execute_result"
    }
   ],
   "source": [
    "model_pca.explainedVariance[:]"
   ]
  },
  {
   "cell_type": "code",
   "execution_count": 44,
   "id": "61f3eda4-b1d0-429e-9220-04e5c731a2ec",
   "metadata": {},
   "outputs": [],
   "source": [
    "import numpy as np\n"
   ]
  },
  {
   "cell_type": "code",
   "execution_count": 45,
   "id": "75376306-5b5e-4968-9009-e7188a2c503b",
   "metadata": {},
   "outputs": [
    {
     "data": {
      "text/plain": [
       "array([0.26545749, 0.43752479, 0.52879928, 0.583173  , 0.63540281,\n",
       "       0.68202316, 0.72628906, 0.76789119, 0.80257301, 0.82979965,\n",
       "       0.8541944 , 0.87429871, 0.89350903, 0.91112132, 0.92662838,\n",
       "       0.94052316, 0.95253057, 0.96386573, 0.97397537, 0.98320549,\n",
       "       0.99210393, 1.        , 1.        ])"
      ]
     },
     "execution_count": 45,
     "metadata": {},
     "output_type": "execute_result"
    }
   ],
   "source": [
    "lista_valores = np.cumsum(model_pca.explainedVariance[:])\n",
    "lista_valores"
   ]
  },
  {
   "cell_type": "code",
   "execution_count": 46,
   "id": "3e2b1627-b994-45e4-a968-ca34d347d3f9",
   "metadata": {},
   "outputs": [
    {
     "data": {
      "text/plain": [
       "6"
      ]
     },
     "execution_count": 46,
     "metadata": {},
     "output_type": "execute_result"
    }
   ],
   "source": [
    "k = sum(lista_valores <= 0.7)\n",
    "k"
   ]
  },
  {
   "cell_type": "code",
   "execution_count": 47,
   "id": "fa7f812a-ab1e-4fc3-8765-4ecf4acdcf2b",
   "metadata": {},
   "outputs": [],
   "source": [
    "pca = PCA(k=k, inputCol='scaled_features', outputCol='pca_features')\n",
    "model_pca = pca.fit(dados_pca.drop('pca_features'))\n",
    "dados_imoveis_pca_final = model_pca.transform(dados_pca.drop('pca_features'))"
   ]
  },
  {
   "cell_type": "code",
   "execution_count": 48,
   "id": "67626a5e-189e-486c-bc78-3ff5d76efe1d",
   "metadata": {},
   "outputs": [
    {
     "name": "stdout",
     "output_type": "stream",
     "text": [
      "+----------------------------------------------------------------------------------------------------------------------------+\n",
      "|pca_features                                                                                                                |\n",
      "+----------------------------------------------------------------------------------------------------------------------------+\n",
      "|[-6.165125049533941,1.3380985269404189,-1.7052299823815504,-0.5338289630545673,0.08903815478585374,-0.31343961802498577]    |\n",
      "|[-3.252911181218316,-1.1179591836230232,-0.29238958414996896,3.1955388200208437,0.15286306982185177,1.3028930490659607]     |\n",
      "|[-1.0611769329629643,-1.668504005869304,-2.307594827839209,0.1055312412577142,-0.06914386452865352,0.7187181899564266]      |\n",
      "|[-1.9958119007837092,-1.7655796610848904,1.357196249867291,-0.16336519381191897,-0.021305227846933672,0.12808044918263461]  |\n",
      "|[-0.41814060701449174,-2.1310407911416673,-0.10264099265013303,2.809916415039136,-0.042956284698292005,-0.09449068767387735]|\n",
      "+----------------------------------------------------------------------------------------------------------------------------+\n",
      "only showing top 5 rows\n",
      "\n"
     ]
    }
   ],
   "source": [
    "dados_imoveis_pca_final.select('pca_features').show(truncate=False, n=5)\n"
   ]
  },
  {
   "cell_type": "code",
   "execution_count": 49,
   "id": "d4326822-0e47-448c-a8f6-3fbb23760026",
   "metadata": {},
   "outputs": [
    {
     "data": {
      "text/plain": [
       "68.20231562211693"
      ]
     },
     "execution_count": 49,
     "metadata": {},
     "output_type": "execute_result"
    }
   ],
   "source": [
    "sum(model_pca.explainedVariance) *100"
   ]
  },
  {
   "cell_type": "code",
   "execution_count": 50,
   "id": "21809513-5cca-45db-9896-b68e30b1e123",
   "metadata": {},
   "outputs": [],
   "source": [
    "pca_pipeline = Pipeline(stages=[vecAssembler, scaler, pca])\n"
   ]
  },
  {
   "cell_type": "code",
   "execution_count": 51,
   "id": "c62722cb-e424-4347-8522-f0c3d298d518",
   "metadata": {},
   "outputs": [],
   "source": [
    "model_pca_pipeline = pca_pipeline.fit(dados)\n"
   ]
  },
  {
   "cell_type": "code",
   "execution_count": 52,
   "id": "19adf321-df5d-454f-8098-380401e590b8",
   "metadata": {},
   "outputs": [],
   "source": [
    "projection = model_pca_pipeline.transform(dados)"
   ]
  },
  {
   "cell_type": "code",
   "execution_count": 53,
   "id": "00ee3f01-4261-4f8a-b1a1-39d828fb019c",
   "metadata": {},
   "outputs": [
    {
     "name": "stdout",
     "output_type": "stream",
     "text": [
      "+---------------------------------------------------------------------------------------------------------------------------+\n",
      "|pca_features                                                                                                               |\n",
      "+---------------------------------------------------------------------------------------------------------------------------+\n",
      "|[-6.16512504953394,1.3380985269404186,-1.7052299823815504,-0.5338289630545634,0.08903815478585952,-0.3134396180250046]     |\n",
      "|[-3.2529111812183165,-1.1179591836230225,-0.2923895841499692,3.1955388200208517,0.1528630698218336,1.3028930490659538]     |\n",
      "|[-1.0611769329629643,-1.6685040058693046,-2.30759482783921,0.10553124125771662,-0.06914386452865681,0.7187181899564257]    |\n",
      "|[-1.9958119007837094,-1.7655796610848904,1.3571962498672903,-0.1633651938119181,-0.02130522784693359,0.12808044918263484]  |\n",
      "|[-0.41814060701449174,-2.1310407911416673,-0.1026409926501338,2.8099164150391385,-0.04295628469830398,-0.09449068767388194]|\n",
      "+---------------------------------------------------------------------------------------------------------------------------+\n",
      "only showing top 5 rows\n",
      "\n"
     ]
    }
   ],
   "source": [
    "projection.select('pca_features').show(truncate=False, n=5)"
   ]
  },
  {
   "cell_type": "code",
   "execution_count": 54,
   "id": "1a07067a-5b11-4895-abe9-9b2befe4e33d",
   "metadata": {},
   "outputs": [
    {
     "name": "stderr",
     "output_type": "stream",
     "text": [
      "                                                                                \r"
     ]
    }
   ],
   "source": [
    "from pyspark.ml.clustering import KMeans\n",
    "from pyspark.ml.evaluation import ClusteringEvaluator\n",
    "silhouette_score=[]\n",
    "\n",
    "evaluator = ClusteringEvaluator(predictionCol='cluster_pca', featuresCol='pca_features', \\\n",
    "                                metricName='silhouette', distanceMeasure='squaredEuclidean')\n",
    "silhouette_score = {}\n",
    "\n",
    "for i in range(2,51):\n",
    "    \n",
    "    KMeans_algo = KMeans(k=i, featuresCol='pca_features', predictionCol='cluster_pca', seed=SEED)\n",
    "    \n",
    "    KMeans_fit = KMeans_algo.fit(projection)\n",
    "    \n",
    "    output = KMeans_fit.transform(projection)\n",
    "    \n",
    "    score = evaluator.evaluate(output)\n",
    "    silhouette_score[i] = score"
   ]
  },
  {
   "cell_type": "code",
   "execution_count": 55,
   "id": "44a0902a-042f-4ee2-9b5a-3a2183f1f6c1",
   "metadata": {},
   "outputs": [
    {
     "data": {
      "text/plain": [
       "{2: 0.48064469046819147,\n",
       " 3: 0.35247190341814694,\n",
       " 4: 0.4111918388989504,\n",
       " 5: 0.35482021308316913,\n",
       " 6: 0.4219544176796719,\n",
       " 7: 0.4723010382878085,\n",
       " 8: 0.3934593076982329,\n",
       " 9: 0.49728750051842896,\n",
       " 10: 0.503364519719561,\n",
       " 11: 0.5054082634358709,\n",
       " 12: 0.48659011631495735,\n",
       " 13: 0.5043544341269074,\n",
       " 14: 0.48269511538345816,\n",
       " 15: 0.4932897650231591,\n",
       " 16: 0.4635348215976478,\n",
       " 17: 0.508658464779861,\n",
       " 18: 0.48228397005793516,\n",
       " 19: 0.5070408969981799,\n",
       " 20: 0.48690239809849,\n",
       " 21: 0.4828912380576073,\n",
       " 22: 0.4963753755298887,\n",
       " 23: 0.5010154175063846,\n",
       " 24: 0.5000533667544367,\n",
       " 25: 0.513485487515551,\n",
       " 26: 0.48637920764771575,\n",
       " 27: 0.49142848030669245,\n",
       " 28: 0.4791224056120226,\n",
       " 29: 0.46682958045549516,\n",
       " 30: 0.5143023360040619,\n",
       " 31: 0.4719678265655038,\n",
       " 32: 0.484151607897867,\n",
       " 33: 0.5019622107280337,\n",
       " 34: 0.47626900095719443,\n",
       " 35: 0.4771669749482904,\n",
       " 36: 0.515122693207503,\n",
       " 37: 0.4737239725118659,\n",
       " 38: 0.47829720958013283,\n",
       " 39: 0.520627476060475,\n",
       " 40: 0.4952133506568015,\n",
       " 41: 0.49787010486011785,\n",
       " 42: 0.4862360929888478,\n",
       " 43: 0.5023554031279023,\n",
       " 44: 0.5023291285536283,\n",
       " 45: 0.4767915778160679,\n",
       " 46: 0.4712977608420937,\n",
       " 47: 0.497201310201273,\n",
       " 48: 0.49971195577702526,\n",
       " 49: 0.4653968015977577,\n",
       " 50: 0.4911299239333317}"
      ]
     },
     "execution_count": 55,
     "metadata": {},
     "output_type": "execute_result"
    }
   ],
   "source": [
    "silhouette_score\n"
   ]
  },
  {
   "cell_type": "code",
   "execution_count": 56,
   "id": "54e0996a-2aa4-45c3-b1c3-b20ddf15155f",
   "metadata": {},
   "outputs": [
    {
     "data": {
      "text/plain": [
       "39"
      ]
     },
     "execution_count": 56,
     "metadata": {},
     "output_type": "execute_result"
    }
   ],
   "source": [
    "k_best = [key for key, value in silhouette_score.items() if value == max(silhouette_score.values())]\n",
    "k_best[0]"
   ]
  },
  {
   "cell_type": "code",
   "execution_count": 57,
   "id": "50277ef2-9aa2-429c-895d-dd9dbad8b7fd",
   "metadata": {},
   "outputs": [],
   "source": [
    "kmeans = KMeans(k=k_best[0], featuresCol='pca_features', predictionCol='cluster_pca', seed=SEED)\n"
   ]
  },
  {
   "cell_type": "code",
   "execution_count": 58,
   "id": "bbb71de4-91c8-42c6-898a-0d3d6b2b3b8c",
   "metadata": {},
   "outputs": [],
   "source": [
    "modelo_kmeans = kmeans.fit(projection)"
   ]
  },
  {
   "cell_type": "code",
   "execution_count": 59,
   "id": "5e0ab52c-4c90-49eb-acc1-d694ca5aa1ef",
   "metadata": {},
   "outputs": [],
   "source": [
    "projetion_kmeans = modelo_kmeans.transform(projection)"
   ]
  },
  {
   "cell_type": "code",
   "execution_count": 60,
   "id": "9ef5524b-6cdc-4c7e-bf08-c1406b1a8abd",
   "metadata": {},
   "outputs": [
    {
     "name": "stdout",
     "output_type": "stream",
     "text": [
      "+----------------------------------------------------------------------------------------------------------------------------+-----------+------------------------------------+\n",
      "|pca_features                                                                                                                |cluster_pca|id                                  |\n",
      "+----------------------------------------------------------------------------------------------------------------------------+-----------+------------------------------------+\n",
      "|[-6.16512504953394,1.3380985269404186,-1.7052299823815504,-0.5338289630545634,0.08903815478585952,-0.3134396180250046]      |25         |00002dd9-cc74-4809-b5a5-850adf0e7526|\n",
      "|[-3.2529111812183165,-1.1179591836230225,-0.2923895841499692,3.1955388200208517,0.1528630698218336,1.3028930490659538]      |24         |0009ca94-2b37-4381-b8b8-773ce0f92444|\n",
      "|[-1.0611769329629643,-1.6685040058693046,-2.30759482783921,0.10553124125771662,-0.06914386452865681,0.7187181899564257]     |4          |000e3d28-e3e5-4110-b488-69154931140e|\n",
      "|[-1.9958119007837094,-1.7655796610848904,1.3571962498672903,-0.1633651938119181,-0.02130522784693359,0.12808044918263484]   |23         |000fb707-6cad-496d-8cb7-d8046cb5ef37|\n",
      "|[-0.41814060701449174,-2.1310407911416673,-0.1026409926501338,2.8099164150391385,-0.04295628469830398,-0.09449068767388194] |5          |001b6db0-e88d-4eba-84e5-0ef94b091a64|\n",
      "|[-6.9015238649799375,-6.262240376053229,0.16910177737313944,0.9779688500381785,-0.13736047799941745,0.8070938605603799]     |33         |002db67e-52cc-4807-ad36-7fc809fb90c2|\n",
      "|[-0.7164221492881622,-1.40402324095564,-0.588022775598336,2.830887511779758,0.013520135298540806,0.283218133308928]         |5          |002dc4e0-f1a5-4add-9c1c-3f43904645da|\n",
      "|[-1.485696020987188,-1.7808507073414415,-1.2578464949092143,3.0191470699558227,-0.12303506507988952,-0.4086526496919337]    |27         |0030dd84-f657-41f3-8b86-0f2a72e0fb55|\n",
      "|[-6.045628320891711,-7.824880763294957,0.8818715068910725,0.8870883633126703,-0.11156730428640119,1.1534985495723915]       |33         |003213bb-ec21-4ad9-b918-3d51f6300a0c|\n",
      "|[-6.199240571378154,0.31242092235474345,-1.2536547599084862,2.8267834930573184,0.06487910654028722,0.8407164846741493]      |9          |0032884c-aa5f-4558-b9eb-1d37892e466f|\n",
      "|[-6.884681111573792,-1.0506751049281164,-0.7150385451988441,0.14081256728014666,-0.12293880480688277,-0.012785235240561214] |13         |00348cd1-923a-4dbd-b113-b31c7b877bec|\n",
      "|[-4.613470387276728,-4.014655897062526,1.3861151450855176,0.2579404148597927,-0.06264532056076227,0.31518356027520095]      |10         |0034df72-124a-4383-a89f-a019850a2ba0|\n",
      "|[-4.4763270618051685,-3.86492621221529,1.9543162471145763,0.39202836727966467,0.10537138955465349,1.2450885159915974]       |37         |0036114a-4a0f-4926-ad98-864f4474fb22|\n",
      "|[-0.9935595784850192,-2.9244548608452914,0.5955403058695213,0.04903265999552553,-0.21477729308058768,-0.8898160995665427]   |1          |00370d62-f774-405f-9412-c50cde27a177|\n",
      "|[-3.164519253343426,-2.1451861381720647,-4.134482451280549,0.3323660375577069,-0.3340019679625957,-0.7316863604402252]      |38         |00396d9d-2d0e-4b54-b3a3-58aec00459b6|\n",
      "|[-3.5460599405487696,-4.655748957792847,-5.04789594192585,0.5981869579148315,-0.34311905725490144,-0.6805477041340564]      |38         |003cb63c-a666-458a-b605-13616ae32c78|\n",
      "|[-7.507064348067448,-5.873363966077188,-0.46321902921268676,0.9640748873463778,-0.23757586245996468,0.42537959998555325]    |34         |0040f5a7-6c6a-40ed-94e6-2e4accbbc1b4|\n",
      "|[-0.6502007974668906,-0.44347741220648806,0.21447012352101807,2.591531259942417,0.09860006647895206,0.5087564467423139]     |5          |00529a9d-d876-4dc5-bb13-847513de1879|\n",
      "|[-0.12715321773616456,-1.196114858830214,-0.10466844621141055,2.640555248790697,-0.001473373025227931,-0.010183626296597997]|5          |00584813-33b4-477b-a7cc-80777593a9ba|\n",
      "|[-2.8493633914846943,-1.0413877168057173,-4.116836754726135,0.1054153014189871,-0.2711338099798563,-0.5882902051985275]     |29         |005b5441-16b2-483b-b177-c15a4bc9e70e|\n",
      "+----------------------------------------------------------------------------------------------------------------------------+-----------+------------------------------------+\n",
      "only showing top 20 rows\n",
      "\n"
     ]
    }
   ],
   "source": [
    "projetion_kmeans.select(['pca_features','cluster_pca', \"id\"]).show(truncate=False)\n"
   ]
  },
  {
   "cell_type": "code",
   "execution_count": 61,
   "id": "5bba635f-a5e7-4d79-ae2b-d72eb5e56b53",
   "metadata": {},
   "outputs": [],
   "source": [
    "id_imovel = '0034df72-124a-4383-a89f-a019850a2ba0'"
   ]
  },
  {
   "cell_type": "code",
   "execution_count": 62,
   "id": "c250ec2e-5f33-42fa-a4d5-4e8f75b5c429",
   "metadata": {},
   "outputs": [
    {
     "name": "stdout",
     "output_type": "stream",
     "text": [
      "+-----------+\n",
      "|cluster_pca|\n",
      "+-----------+\n",
      "|         10|\n",
      "+-----------+\n",
      "\n"
     ]
    }
   ],
   "source": [
    "projetion_kmeans.filter(projetion_kmeans.id == id_imovel).select('cluster_pca').show()"
   ]
  },
  {
   "cell_type": "code",
   "execution_count": 63,
   "id": "020f8f63-db20-4812-8c2e-d8a6d1c41bbe",
   "metadata": {},
   "outputs": [
    {
     "data": {
      "text/plain": [
       "10"
      ]
     },
     "execution_count": 63,
     "metadata": {},
     "output_type": "execute_result"
    }
   ],
   "source": [
    "cluster = projetion_kmeans.filter(projetion_kmeans.id == id_imovel).select('cluster_pca').collect()[0][0]\n",
    "cluster\n"
   ]
  },
  {
   "cell_type": "code",
   "execution_count": 64,
   "id": "a21bdbef-e7a4-4278-b5f0-388eaa556001",
   "metadata": {},
   "outputs": [
    {
     "name": "stdout",
     "output_type": "stream",
     "text": [
      "+--------------------+--------------------+--------------------+\n",
      "|              bairro|                  id|        pca_features|\n",
      "+--------------------+--------------------+--------------------+\n",
      "|Recreio dos Bande...|0034df72-124a-438...|[-4.6134703872767...|\n",
      "|Recreio dos Bande...|01b872aa-9563-4e6...|[-3.7479325299309...|\n",
      "|             Taquara|01e94fd8-5fa6-454...|[-2.5093968825908...|\n",
      "|     Barra da Tijuca|023db788-b55a-428...|[-4.1939429646586...|\n",
      "|     Barra da Tijuca|030d636c-e083-419...|[-2.8257315052876...|\n",
      "+--------------------+--------------------+--------------------+\n",
      "only showing top 5 rows\n",
      "\n"
     ]
    }
   ],
   "source": [
    "imoveis_recomendadas = projetion_kmeans.filter(projetion_kmeans.cluster_pca == cluster)\\\n",
    "                                       .select('bairro', 'id', 'pca_features')\n",
    "imoveis_recomendadas.show(5)"
   ]
  },
  {
   "cell_type": "markdown",
   "id": "51c82ac4-7eb9-4fe7-a2ef-8423405a75a7",
   "metadata": {},
   "source": [
    "# Calculando distância euclidiana para encontrar as 10 melhores recomendações"
   ]
  },
  {
   "cell_type": "code",
   "execution_count": 65,
   "id": "650841a5-2b35-4180-a0a7-1975ff558418",
   "metadata": {},
   "outputs": [
    {
     "data": {
      "text/plain": [
       "'0034df72-124a-4383-a89f-a019850a2ba0'"
      ]
     },
     "execution_count": 65,
     "metadata": {},
     "output_type": "execute_result"
    }
   ],
   "source": [
    "id_imovel"
   ]
  },
  {
   "cell_type": "code",
   "execution_count": 66,
   "id": "6b57da5e-ae4b-4ca1-870f-5372d0236ba6",
   "metadata": {},
   "outputs": [
    {
     "data": {
      "text/plain": [
       "DenseVector([-4.6135, -4.0147, 1.3861, 0.2579, -0.0626, 0.3152])"
      ]
     },
     "execution_count": 66,
     "metadata": {},
     "output_type": "execute_result"
    }
   ],
   "source": [
    "imovel_procurado = imoveis_recomendadas.filter(imoveis_recomendadas.id == id_imovel)\\\n",
    "                                          .select('pca_features').collect()[0][0]\n",
    "imovel_procurado     "
   ]
  },
  {
   "cell_type": "code",
   "execution_count": 67,
   "id": "c608dd5b-beb7-444b-9b36-9104ac4b13b1",
   "metadata": {},
   "outputs": [],
   "source": [
    "from scipy.spatial.distance import euclidean\n",
    "from pyspark.sql.types import FloatType"
   ]
  },
  {
   "cell_type": "code",
   "execution_count": 68,
   "id": "07f47d6e-ed8f-44d4-b954-229770f2b5fb",
   "metadata": {},
   "outputs": [
    {
     "name": "stderr",
     "output_type": "stream",
     "text": [
      "[Stage 2828:>                                                       (0 + 4) / 4]\r"
     ]
    },
    {
     "name": "stdout",
     "output_type": "stream",
     "text": [
      "+--------------------+--------------------+----------+\n",
      "|              bairro|                  id| distancia|\n",
      "+--------------------+--------------------+----------+\n",
      "|Recreio dos Bande...|0034df72-124a-438...|       0.0|\n",
      "|Recreio dos Bande...|e5ec2e28-c81f-47a...|0.17295614|\n",
      "|Recreio dos Bande...|12012273-e197-488...|0.18009204|\n",
      "|Recreio dos Bande...|c4585166-c411-4e5...|0.18062168|\n",
      "|         Jacarepaguá|612f2a2c-a28a-44e...|0.24683942|\n",
      "+--------------------+--------------------+----------+\n",
      "only showing top 5 rows\n",
      "\n"
     ]
    },
    {
     "name": "stderr",
     "output_type": "stream",
     "text": [
      "                                                                                \r"
     ]
    }
   ],
   "source": [
    "def calculate_euclidean_distance(imovel, valor):\n",
    "    return euclidean(imovel, valor)\n",
    "\n",
    "euclidean_udf = f.udf(lambda x: calculate_euclidean_distance(imovel_procurado, x), FloatType())\n",
    "\n",
    "imoveis_recomendadas\\\n",
    "    .withColumn('distancia', euclidean_udf('pca_features'))\\\n",
    "    .select('bairro', 'id', 'distancia')\\\n",
    "    .orderBy('distancia')\\\n",
    "    .show(5)"
   ]
  },
  {
   "cell_type": "code",
   "execution_count": 69,
   "id": "98220140-bcbc-4ab5-9b57-2d43a54b0571",
   "metadata": {},
   "outputs": [
    {
     "name": "stdout",
     "output_type": "stream",
     "text": [
      "+--------------------+--------------------+----------+\n",
      "|              bairro|                  id| distancia|\n",
      "+--------------------+--------------------+----------+\n",
      "|Recreio dos Bande...|0034df72-124a-438...|       0.0|\n",
      "|Recreio dos Bande...|e5ec2e28-c81f-47a...|0.17295614|\n",
      "|Recreio dos Bande...|12012273-e197-488...|0.18009204|\n",
      "|Recreio dos Bande...|c4585166-c411-4e5...|0.18062168|\n",
      "|         Jacarepaguá|612f2a2c-a28a-44e...|0.24683942|\n",
      "+--------------------+--------------------+----------+\n",
      "only showing top 5 rows\n",
      "\n"
     ]
    }
   ],
   "source": [
    "recomendadas = imoveis_recomendadas\\\n",
    "    .withColumn('distancia', euclidean_udf('pca_features'))\\\n",
    "    .select('bairro', 'id', 'distancia')\\\n",
    "    .orderBy('distancia')\n",
    "\n",
    "recomendadas.show(5)"
   ]
  },
  {
   "cell_type": "markdown",
   "id": "99eeb6f0-bae1-4265-b259-118a16d433f1",
   "metadata": {},
   "source": [
    "# Criando uma função recomendadora para ser usada como referencia para o time dev"
   ]
  },
  {
   "cell_type": "code",
   "execution_count": 70,
   "id": "06861951-c83b-451d-9b91-a06a8bab4504",
   "metadata": {},
   "outputs": [],
   "source": [
    "def calculate_euclidean_distance(imovel, valor):\n",
    "    return euclidean(imovel, valor)\n",
    "\n",
    "\n",
    "def recommender(id_imovel, dataframe_kmeans):\n",
    "    cluster = dataframe_kmeans\\\n",
    "        .filter(dataframe_kmeans.id == id_imovel)\\\n",
    "        .select('cluster_pca')\\\n",
    "        .collect()[0][0]\n",
    "\n",
    "    imoveis_recomendadas = dataframe_kmeans\\\n",
    "        .filter(dataframe_kmeans.cluster_pca == cluster)\n",
    "\n",
    "    imovel_procurado = imoveis_recomendadas\\\n",
    "        .filter(imoveis_recomendadas.id == id_imovel)\\\n",
    "        .select('pca_features')\\\n",
    "        .collect()[0][0]\n",
    "\n",
    "    euclidean_udf = f.udf(lambda x: calculate_euclidean_distance(\n",
    "        imovel_procurado, x), FloatType())\n",
    "\n",
    "    colunas_nao_utilizadas = [\n",
    "        'features', 'scaled_features', 'pca_features', 'cluster_pca', 'distancia']\n",
    "\n",
    "    recomendadas = imoveis_recomendadas\\\n",
    "        .withColumn('distancia', euclidean_udf('pca_features'))\\\n",
    "        .select([col for col in imoveis_recomendadas.columns if col not in colunas_nao_utilizadas])\\\n",
    "        .orderBy('distancia')\n",
    "\n",
    "    return recomendadas"
   ]
  },
  {
   "cell_type": "code",
   "execution_count": 71,
   "id": "705fc931-0903-4da6-9eeb-ec2e3898f576",
   "metadata": {},
   "outputs": [
    {
     "name": "stdout",
     "output_type": "stream",
     "text": [
      "+------------------------------------+------------------------+\n",
      "|id                                  |bairro                  |\n",
      "+------------------------------------+------------------------+\n",
      "|0034df72-124a-4383-a89f-a019850a2ba0|Recreio dos Bandeirantes|\n",
      "|e5ec2e28-c81f-47a6-aeff-1288d6773c7b|Recreio dos Bandeirantes|\n",
      "|12012273-e197-488f-bf81-784cb02ec875|Recreio dos Bandeirantes|\n",
      "|c4585166-c411-4e57-9095-9b7ac2f5dccc|Recreio dos Bandeirantes|\n",
      "|dbe16cf4-439c-4812-9233-34507b399d53|Jacarepaguá             |\n",
      "|612f2a2c-a28a-44ec-b6d1-4d7606932f84|Jacarepaguá             |\n",
      "|7c3e3897-3734-4a10-bd7f-2efbb28aaef8|Barra da Tijuca         |\n",
      "|d102b22b-73a1-48d4-b4da-617bfd0e33c6|Recreio dos Bandeirantes|\n",
      "|4f991db8-b42f-4ac9-97a4-f41d0630ee1e|Recreio dos Bandeirantes|\n",
      "|8aacfda0-621a-4f9a-8aa6-a97881ac5c0d|Recreio dos Bandeirantes|\n",
      "|a2fa4e3f-4f7f-4003-809d-a1098d88d687|Recreio dos Bandeirantes|\n",
      "|5788a47e-04e1-41fd-8d81-dfaeff13d942|Barra da Tijuca         |\n",
      "|9f12771a-93e0-4fe6-bfd2-02d40e429644|Barra da Tijuca         |\n",
      "|c853d7a2-3c3e-4b71-9598-904f3568a849|Recreio dos Bandeirantes|\n",
      "|5cbe6ea9-ae38-4f19-8f45-c5f75431b9cd|Recreio dos Bandeirantes|\n",
      "|ef6cf68f-ea1a-46c2-aeb4-84e3a4822b51|Recreio dos Bandeirantes|\n",
      "|e1302c47-8a02-4044-92db-7975d743caa6|Recreio dos Bandeirantes|\n",
      "|e8d36b03-9a0b-47cf-aed2-01b063fa07f0|Recreio dos Bandeirantes|\n",
      "|8574156d-a693-43bc-bf95-1a9198caab34|Recreio dos Bandeirantes|\n",
      "|0c7b4266-d8fd-4cf2-95d8-d0ba4121feb9|Barra da Tijuca         |\n",
      "+------------------------------------+------------------------+\n",
      "only showing top 20 rows\n",
      "\n"
     ]
    }
   ],
   "source": [
    "recommender(\"0034df72-124a-4383-a89f-a019850a2ba0\", projetion_kmeans).select(\"id\", \"bairro\").show(20, truncate=False)"
   ]
  },
  {
   "cell_type": "code",
   "execution_count": null,
   "id": "cc0d32a8-2a17-4413-9247-11bf9bc4afe2",
   "metadata": {},
   "outputs": [],
   "source": []
  }
 ],
 "metadata": {
  "kernelspec": {
   "display_name": "Python 3 (ipykernel)",
   "language": "python",
   "name": "python3"
  },
  "language_info": {
   "codemirror_mode": {
    "name": "ipython",
    "version": 3
   },
   "file_extension": ".py",
   "mimetype": "text/x-python",
   "name": "python",
   "nbconvert_exporter": "python",
   "pygments_lexer": "ipython3",
   "version": "3.10.12"
  }
 },
 "nbformat": 4,
 "nbformat_minor": 5
}
