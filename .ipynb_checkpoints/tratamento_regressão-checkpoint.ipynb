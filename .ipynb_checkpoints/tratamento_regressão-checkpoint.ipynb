{
 "cells": [
  {
   "cell_type": "code",
   "execution_count": 1,
   "id": "d1819cfb-90bd-423e-a572-bbf8209f163f",
   "metadata": {},
   "outputs": [],
   "source": [
    "from pyspark.sql import SparkSession"
   ]
  },
  {
   "cell_type": "code",
   "execution_count": 2,
   "id": "2613e58a-19df-4fa4-88ac-7ecd714e580c",
   "metadata": {},
   "outputs": [
    {
     "name": "stdout",
     "output_type": "stream",
     "text": [
      "23/08/28 11:19:06 WARN Utils: Your hostname, Gabuwp resolves to a loopback address: 127.0.1.1; using 192.168.119.20 instead (on interface eth0)\n",
      "23/08/28 11:19:06 WARN Utils: Set SPARK_LOCAL_IP if you need to bind to another address\n"
     ]
    },
    {
     "name": "stderr",
     "output_type": "stream",
     "text": [
      "Setting default log level to \"WARN\".\n",
      "To adjust logging level use sc.setLogLevel(newLevel). For SparkR, use setLogLevel(newLevel).\n"
     ]
    },
    {
     "name": "stdout",
     "output_type": "stream",
     "text": [
      "23/08/28 11:19:07 WARN NativeCodeLoader: Unable to load native-hadoop library for your platform... using builtin-java classes where applicable\n",
      "23/08/28 11:19:08 WARN Utils: Service 'SparkUI' could not bind on port 4040. Attempting port 4041.\n"
     ]
    },
    {
     "data": {
      "text/html": [
       "\n",
       "            <div>\n",
       "                <p><b>SparkSession - in-memory</b></p>\n",
       "                \n",
       "        <div>\n",
       "            <p><b>SparkContext</b></p>\n",
       "\n",
       "            <p><a href=\"http://192.168.119.20:4041\">Spark UI</a></p>\n",
       "\n",
       "            <dl>\n",
       "              <dt>Version</dt>\n",
       "                <dd><code>v3.3.1</code></dd>\n",
       "              <dt>Master</dt>\n",
       "                <dd><code>local[*]</code></dd>\n",
       "              <dt>AppName</dt>\n",
       "                <dd><code>Regressão com Spark</code></dd>\n",
       "            </dl>\n",
       "        </div>\n",
       "        \n",
       "            </div>\n",
       "        "
      ],
      "text/plain": [
       "<pyspark.sql.session.SparkSession at 0x7f69c42b9900>"
      ]
     },
     "execution_count": 2,
     "metadata": {},
     "output_type": "execute_result"
    }
   ],
   "source": [
    "spark = SparkSession.builder \\\n",
    "    .master('local[*]') \\\n",
    "    .appName(\"Regressão com Spark\") \\\n",
    "    .getOrCreate()\n",
    "\n",
    "spark"
   ]
  },
  {
   "cell_type": "code",
   "execution_count": 3,
   "id": "38f84ca8-90f0-4141-94e4-9f8727f56e17",
   "metadata": {
    "scrolled": true
   },
   "outputs": [
    {
     "name": "stdout",
     "output_type": "stream",
     "text": [
      "--2023-08-28 11:19:09--  https://caelum-online-public.s3.amazonaws.com/challenge-spark/semana-2.zip\n",
      "Resolving caelum-online-public.s3.amazonaws.com (caelum-online-public.s3.amazonaws.com)... 16.182.105.233, 52.216.144.131, 3.5.27.135, ...\n",
      "Connecting to caelum-online-public.s3.amazonaws.com (caelum-online-public.s3.amazonaws.com)|16.182.105.233|:443... connected.\n",
      "HTTP request sent, awaiting response... 200 OK\n",
      "Length: 2763652 (2.6M) [application/zip]\n",
      "Saving to: ‘semana-2.zip’\n",
      "\n",
      "semana-2.zip        100%[===================>]   2.63M  2.57MB/s    in 1.0s    \n",
      "\n",
      "2023-08-28 11:19:11 (2.57 MB/s) - ‘semana-2.zip’ saved [2763652/2763652]\n",
      "\n",
      "Archive:  semana-2.zip\n",
      "   creating: dados/dataset_transformado_parquet/\n",
      "  inflating: dados/dataset_transformado_parquet/_SUCCESS  \n",
      "  inflating: dados/dataset_transformado_parquet/._SUCCESS.crc  \n",
      "  inflating: dados/dataset_transformado_parquet/part-00000-00341ba7-0a7c-4fef-a81e-1066725a64b1-c000.snappy.parquet  \n",
      "  inflating: dados/dataset_transformado_parquet/.part-00000-00341ba7-0a7c-4fef-a81e-1066725a64b1-c000.snappy.parquet.crc  \n"
     ]
    }
   ],
   "source": [
    "!wget 'https://caelum-online-public.s3.amazonaws.com/challenge-spark/semana-2.zip' && unzip semana-2.zip -d dados/"
   ]
  },
  {
   "cell_type": "markdown",
   "id": "08bd9558-fa83-41df-82e1-a9dde0423d62",
   "metadata": {},
   "source": [
    "Lendo dataset transformado"
   ]
  },
  {
   "cell_type": "code",
   "execution_count": 4,
   "id": "275dad75-4eb8-49f7-a6ab-731292b7f765",
   "metadata": {
    "scrolled": true
   },
   "outputs": [
    {
     "name": "stdout",
     "output_type": "stream",
     "text": [
      "+--------------------+-----+----------+---------+---------+--------------------+-------+------+------------+------------+-----------+----+------------+------------+----------+----+-----+------+\n",
      "|                  id|andar|area_total|area_util|banheiros|     caracteristicas|quartos|suites|tipo_anuncio|tipo_unidade|   tipo_uso|vaga|      bairro|        zona|condominio|iptu| tipo| valor|\n",
      "+--------------------+-----+----------+---------+---------+--------------------+-------+------+------------+------------+-----------+----+------------+------------+----------+----+-----+------+\n",
      "|03a386b6-7ab8-4ef...|    0|        43|       43|        1|[Churrasqueira, A...|      2|  null|       Usado| Apartamento|Residencial|   1|    Realengo|  Zona Oeste|       285|null|Venda| 22999|\n",
      "|1fe78d41-b8e0-4d2...|    0|        44|       44|        1|                  []|      2|     0|       Usado| Apartamento|Residencial|   0|       Irajá|  Zona Norte|       170|   0|Venda|110000|\n",
      "|1fa1c1e5-e98c-433...|    4|      null|       55|        1|                  []|      2|     0|       Usado| Apartamento|Residencial|   1|      Cosmos|  Zona Oeste|      null|null|Venda|115000|\n",
      "|a6ab01ae-3d40-40e...|    2|      null|       55|        1|                  []|      2|     0|       Usado| Apartamento|Residencial|   0|Tomás Coelho|  Zona Norte|      null|null|Venda|115000|\n",
      "|1d8ff7a2-16bd-4e3...|    0|      null|       50|        1|                  []|      1|  null|       Usado| Apartamento|Residencial|   0|      Centro|Zona Central|      1300|2679|Venda|125000|\n",
      "+--------------------+-----+----------+---------+---------+--------------------+-------+------+------------+------------+-----------+----+------------+------------+----------+----+-----+------+\n",
      "only showing top 5 rows\n",
      "\n"
     ]
    }
   ],
   "source": [
    "dados = spark.read.parquet(\"dados/dataset_transformado_parquet\")\n",
    "dados.show(5)"
   ]
  },
  {
   "cell_type": "markdown",
   "id": "e1016bc2-a98f-48ff-8676-2f8e5a728435",
   "metadata": {},
   "source": [
    "# Seleção de features"
   ]
  },
  {
   "cell_type": "code",
   "execution_count": 5,
   "id": "96a4e5b4-aa8d-4ffe-8144-4662520e0d50",
   "metadata": {},
   "outputs": [
    {
     "name": "stdout",
     "output_type": "stream",
     "text": [
      "+-----+\n",
      "| tipo|\n",
      "+-----+\n",
      "|Venda|\n",
      "+-----+\n",
      "\n"
     ]
    }
   ],
   "source": [
    "dados.select(\"tipo\").distinct().show(5)"
   ]
  },
  {
   "cell_type": "code",
   "execution_count": 6,
   "id": "e2279525-b14c-417e-b14a-45a4bcb4707b",
   "metadata": {},
   "outputs": [
    {
     "name": "stdout",
     "output_type": "stream",
     "text": [
      "+------------+\n",
      "|tipo_anuncio|\n",
      "+------------+\n",
      "|       Usado|\n",
      "+------------+\n",
      "\n"
     ]
    }
   ],
   "source": [
    "dados.select(\"tipo_anuncio\").distinct().show(5)"
   ]
  },
  {
   "cell_type": "code",
   "execution_count": 7,
   "id": "06ee01cf-2a60-4411-b806-0ace943eb251",
   "metadata": {},
   "outputs": [
    {
     "name": "stdout",
     "output_type": "stream",
     "text": [
      "+------------+\n",
      "|tipo_unidade|\n",
      "+------------+\n",
      "| Apartamento|\n",
      "+------------+\n",
      "\n"
     ]
    }
   ],
   "source": [
    "dados.select(\"tipo_unidade\").distinct().show(5)"
   ]
  },
  {
   "cell_type": "code",
   "execution_count": 8,
   "id": "54004439-51cb-4cf0-9d3c-133ee6f3b459",
   "metadata": {},
   "outputs": [
    {
     "name": "stdout",
     "output_type": "stream",
     "text": [
      "+-----------+\n",
      "|   tipo_uso|\n",
      "+-----------+\n",
      "|Residencial|\n",
      "+-----------+\n",
      "\n"
     ]
    }
   ],
   "source": [
    "dados.select(\"tipo_uso\").distinct().show(5)"
   ]
  },
  {
   "cell_type": "code",
   "execution_count": 9,
   "id": "ff56fc67-a767-42a0-8a5b-4336f1668311",
   "metadata": {},
   "outputs": [
    {
     "name": "stdout",
     "output_type": "stream",
     "text": [
      "+----------+---------+\n",
      "|area_total|area_util|\n",
      "+----------+---------+\n",
      "|        43|       43|\n",
      "|        44|       44|\n",
      "|      null|       55|\n",
      "|      null|       55|\n",
      "|      null|       50|\n",
      "+----------+---------+\n",
      "only showing top 5 rows\n",
      "\n"
     ]
    }
   ],
   "source": [
    "dados.select(\"area_total\",\"area_util\").show(5)"
   ]
  },
  {
   "cell_type": "code",
   "execution_count": 10,
   "id": "18defe2d-fc4f-47a4-9f1d-7d6befbb5291",
   "metadata": {},
   "outputs": [],
   "source": [
    "from pyspark.sql import functions as f"
   ]
  },
  {
   "cell_type": "code",
   "execution_count": 12,
   "id": "11bf483b-d2fb-4a9e-9590-67b3d81a96ff",
   "metadata": {},
   "outputs": [],
   "source": [
    "dados_without_na = dados\\\n",
    "    .select('area_util','area_total')\\\n",
    "    .na\\\n",
    "    .drop()"
   ]
  },
  {
   "cell_type": "markdown",
   "id": "529c27a3-1a73-4251-93cc-b4afebd12b0a",
   "metadata": {},
   "source": [
    "# Verificando quantidades de 2 colunas area_util e area_total utilizando functions of pyspark"
   ]
  },
  {
   "cell_type": "code",
   "execution_count": 14,
   "id": "6701df27-2ee5-43ec-a268-8ecdb278ae2b",
   "metadata": {},
   "outputs": [
    {
     "name": "stdout",
     "output_type": "stream",
     "text": [
      "Quantidade de linhas: 57368\n",
      "Quantidade de linhas com area_util == area_total: 55384\n",
      "Quantidade de linhas diferentes: 1984\n"
     ]
    }
   ],
   "source": [
    "quantidade_total = dados_without_na.count()\n",
    "quantidades_iguais = dados_without_na.filter(f.col('area_util') == f.col('area_total')).count()\n",
    "quantidade_distintas = quantidade_total - quantidades_iguais\n",
    "\n",
    "print(f\"Quantidade de linhas: {quantidade_total}\")\n",
    "print(f\"Quantidade de linhas com area_util == area_total: {quantidades_iguais}\")\n",
    "print(f\"Quantidade de linhas diferentes: {quantidade_distintas}\")"
   ]
  },
  {
   "cell_type": "code",
   "execution_count": 18,
   "id": "f88caf2a-e02b-4e8c-a618-873af05e6a53",
   "metadata": {},
   "outputs": [],
   "source": [
    "colunas = ['area_total','area_util']"
   ]
  },
  {
   "cell_type": "code",
   "execution_count": 19,
   "id": "ef81f345-e1b4-4a49-b778-7cfd5c08a0e4",
   "metadata": {
    "scrolled": true
   },
   "outputs": [
    {
     "name": "stdout",
     "output_type": "stream",
     "text": [
      "+----------+---------+\n",
      "|area_total|area_util|\n",
      "+----------+---------+\n",
      "|      9194|        0|\n",
      "+----------+---------+\n",
      "\n"
     ]
    }
   ],
   "source": [
    "dados\\\n",
    "    .select([f.count(f.when(dados[c].isNull(),True)).alias(c) for c in colunas])\\\n",
    "    .show()"
   ]
  },
  {
   "cell_type": "code",
   "execution_count": 20,
   "id": "27aa8527-cbb2-44fc-abce-6f19c211e87a",
   "metadata": {},
   "outputs": [
    {
     "name": "stdout",
     "output_type": "stream",
     "text": [
      "+--------------------+-----+---------+---------+--------------------+-------+------+----+------------+------------+----------+----+------+\n",
      "|                  id|andar|area_util|banheiros|     caracteristicas|quartos|suites|vaga|      bairro|        zona|condominio|iptu| valor|\n",
      "+--------------------+-----+---------+---------+--------------------+-------+------+----+------------+------------+----------+----+------+\n",
      "|03a386b6-7ab8-4ef...|    0|       43|        1|[Churrasqueira, A...|      2|  null|   1|    Realengo|  Zona Oeste|       285|null| 22999|\n",
      "|1fe78d41-b8e0-4d2...|    0|       44|        1|                  []|      2|     0|   0|       Irajá|  Zona Norte|       170|   0|110000|\n",
      "|1fa1c1e5-e98c-433...|    4|       55|        1|                  []|      2|     0|   1|      Cosmos|  Zona Oeste|      null|null|115000|\n",
      "|a6ab01ae-3d40-40e...|    2|       55|        1|                  []|      2|     0|   0|Tomás Coelho|  Zona Norte|      null|null|115000|\n",
      "|1d8ff7a2-16bd-4e3...|    0|       50|        1|                  []|      1|  null|   0|      Centro|Zona Central|      1300|2679|125000|\n",
      "+--------------------+-----+---------+---------+--------------------+-------+------+----+------------+------------+----------+----+------+\n",
      "only showing top 5 rows\n",
      "\n"
     ]
    }
   ],
   "source": [
    "dados.\\\n",
    "    drop(\"area_total\",\"tipo_anuncio\",\"tipo_unidade\",\"tipo_uso\",\"tipo\")\\\n",
    "    .show(5)"
   ]
  },
  {
   "cell_type": "code",
   "execution_count": 21,
   "id": "c1ffa45a-b220-4088-a96b-efbd13d82bd7",
   "metadata": {
    "scrolled": true
   },
   "outputs": [
    {
     "name": "stdout",
     "output_type": "stream",
     "text": [
      "+--------------------+-----+---------+---------+--------------------+-------+------+----+------------+------------+----------+----+------+\n",
      "|                  id|andar|area_util|banheiros|     caracteristicas|quartos|suites|vaga|      bairro|        zona|condominio|iptu| valor|\n",
      "+--------------------+-----+---------+---------+--------------------+-------+------+----+------------+------------+----------+----+------+\n",
      "|03a386b6-7ab8-4ef...|    0|       43|        1|[Churrasqueira, A...|      2|  null|   1|    Realengo|  Zona Oeste|       285|null| 22999|\n",
      "|1fe78d41-b8e0-4d2...|    0|       44|        1|                  []|      2|     0|   0|       Irajá|  Zona Norte|       170|   0|110000|\n",
      "|1fa1c1e5-e98c-433...|    4|       55|        1|                  []|      2|     0|   1|      Cosmos|  Zona Oeste|      null|null|115000|\n",
      "|a6ab01ae-3d40-40e...|    2|       55|        1|                  []|      2|     0|   0|Tomás Coelho|  Zona Norte|      null|null|115000|\n",
      "|1d8ff7a2-16bd-4e3...|    0|       50|        1|                  []|      1|  null|   0|      Centro|Zona Central|      1300|2679|125000|\n",
      "+--------------------+-----+---------+---------+--------------------+-------+------+----+------------+------------+----------+----+------+\n",
      "only showing top 5 rows\n",
      "\n"
     ]
    }
   ],
   "source": [
    "dataset = dados.\\\n",
    "                drop(\"area_total\",\"tipo_anuncio\",\"tipo_unidade\",\"tipo_uso\",\"tipo\")\\\n",
    "\n",
    "dataset.show(5)"
   ]
  },
  {
   "cell_type": "markdown",
   "id": "1adbe2c6-c30e-4fdc-8850-a3e313e37da5",
   "metadata": {},
   "source": [
    "# Convertendo colunas do DF"
   ]
  },
  {
   "cell_type": "code",
   "execution_count": 22,
   "id": "81b45b12-ebea-4620-b813-c222e59a6418",
   "metadata": {},
   "outputs": [],
   "source": [
    "from pyspark.sql.types import IntegerType, DoubleType"
   ]
  },
  {
   "cell_type": "code",
   "execution_count": 24,
   "id": "edf15a70-ba95-43a1-b124-4278da625627",
   "metadata": {},
   "outputs": [
    {
     "name": "stdout",
     "output_type": "stream",
     "text": [
      "root\n",
      " |-- id: string (nullable = true)\n",
      " |-- andar: integer (nullable = true)\n",
      " |-- area_util: double (nullable = true)\n",
      " |-- banheiros: integer (nullable = true)\n",
      " |-- caracteristicas: array (nullable = true)\n",
      " |    |-- element: string (containsNull = true)\n",
      " |-- quartos: integer (nullable = true)\n",
      " |-- suites: integer (nullable = true)\n",
      " |-- vaga: integer (nullable = true)\n",
      " |-- bairro: string (nullable = true)\n",
      " |-- zona: string (nullable = true)\n",
      " |-- condominio: double (nullable = true)\n",
      " |-- iptu: double (nullable = true)\n",
      " |-- valor: double (nullable = true)\n",
      "\n"
     ]
    }
   ],
   "source": [
    "dataset\\\n",
    "    .withColumn('andar', dados['andar'].cast(IntegerType()))\\\n",
    "    .withColumn('area_util', dados['area_util'].cast(DoubleType()))\\\n",
    "    .withColumn('banheiros', dados['banheiros'].cast(IntegerType()))\\\n",
    "    .withColumn('quartos', dados['quartos'].cast(IntegerType()))\\\n",
    "    .withColumn('suites', dados['suites'].cast(IntegerType()))\\\n",
    "    .withColumn('condominio', dados['condominio'].cast(DoubleType()))\\\n",
    "    .withColumn('vaga', dados['vaga'].cast(IntegerType()))\\\n",
    "    .withColumn('iptu', dados['iptu'].cast(DoubleType()))\\\n",
    "    .withColumn('valor', dados['valor'].cast(DoubleType()))\\\n",
    "    .printSchema()"
   ]
  },
  {
   "cell_type": "code",
   "execution_count": 25,
   "id": "710a077b-64fb-4b18-90df-ff33b0c5eaa7",
   "metadata": {},
   "outputs": [],
   "source": [
    "dataset = dataset\\\n",
    "    .withColumn('andar', dados['andar'].cast(IntegerType()))\\\n",
    "    .withColumn('area_util', dados['area_util'].cast(IntegerType()))\\\n",
    "    .withColumn('banheiros', dados['banheiros'].cast(IntegerType()))\\\n",
    "    .withColumn('quartos', dados['quartos'].cast(IntegerType()))\\\n",
    "    .withColumn('suites', dados['suites'].cast(DoubleType()))\\\n",
    "    .withColumn('condominio', dados['condominio'].cast(DoubleType()))\\\n",
    "    .withColumn('vaga', dados['vaga'].cast(DoubleType()))\\\n",
    "    .withColumn('iptu', dados['iptu'].cast(DoubleType()))\\\n",
    "    .withColumn('valor', dados['valor'].cast(DoubleType()))"
   ]
  },
  {
   "cell_type": "markdown",
   "id": "d6026070-1dd9-4ad9-86b1-47e005485d52",
   "metadata": {},
   "source": [
    "# Tratamento da coluna \"caracteristicas\""
   ]
  },
  {
   "cell_type": "code",
   "execution_count": 26,
   "id": "88852066-c34a-4606-b6b8-7d8b07eea063",
   "metadata": {},
   "outputs": [
    {
     "data": {
      "text/plain": [
       "[Row(col='Condomínio fechado'),\n",
       " Row(col='Playground'),\n",
       " Row(col='Portão eletrônico'),\n",
       " Row(col='Piscina'),\n",
       " Row(col='Animais permitidos'),\n",
       " Row(col='Portaria 24h'),\n",
       " Row(col='Elevador'),\n",
       " Row(col='Academia'),\n",
       " Row(col='Salão de festas'),\n",
       " Row(col='Churrasqueira')]"
      ]
     },
     "execution_count": 26,
     "metadata": {},
     "output_type": "execute_result"
    }
   ],
   "source": [
    "# visualizando os elementos únicos das listas dessa coluna\n",
    "dataset.select(f.explode(\"caracteristicas\")).distinct().collect()"
   ]
  },
  {
   "cell_type": "code",
   "execution_count": 27,
   "id": "6f7eafc5-b6eb-4bde-a3bd-2a93ee12fc0a",
   "metadata": {
    "scrolled": true
   },
   "outputs": [
    {
     "name": "stdout",
     "output_type": "stream",
     "text": [
      "+--------------------+-----+---------+---------+--------------------+-------+------+----+--------------------+------------+----------+------+--------+\n",
      "|                  id|andar|area_util|banheiros|     caracteristicas|quartos|suites|vaga|              bairro|        zona|condominio|  iptu|   valor|\n",
      "+--------------------+-----+---------+---------+--------------------+-------+------+----+--------------------+------------+----------+------+--------+\n",
      "|03a386b6-7ab8-4ef...|    0|       43|        1|[Churrasqueira, A...|      2|  null| 1.0|            Realengo|  Zona Oeste|     285.0|  null| 22999.0|\n",
      "|1fe78d41-b8e0-4d2...|    0|       44|        1|                null|      2|   0.0| 0.0|               Irajá|  Zona Norte|     170.0|   0.0|110000.0|\n",
      "|1fa1c1e5-e98c-433...|    4|       55|        1|                null|      2|   0.0| 1.0|              Cosmos|  Zona Oeste|      null|  null|115000.0|\n",
      "|a6ab01ae-3d40-40e...|    2|       55|        1|                null|      2|   0.0| 0.0|        Tomás Coelho|  Zona Norte|      null|  null|115000.0|\n",
      "|1d8ff7a2-16bd-4e3...|    0|       50|        1|                null|      1|  null| 0.0|              Centro|Zona Central|    1300.0|2679.0|125000.0|\n",
      "|40a2cbde-946b-42d...|    2|       47|        1|[Condomínio fecha...|      2|   0.0| 1.0|        Campo Grande|  Zona Oeste|     380.0|  null|138000.0|\n",
      "|be269ddf-a4a3-4a7...|    0|       45|        1|[Churrasqueira, C...|      2|   0.0| 1.0|        Campo Grande|  Zona Oeste|     356.0|   0.0|140000.0|\n",
      "|4b7e3d59-34fd-4ba...|    3|       48|        1|[Churrasqueira, P...|      2|  null| 1.0|        Campo Grande|  Zona Oeste|       0.0|   0.0|150000.0|\n",
      "|a1a0c2ac-4fa8-4b0...|    9|       55|        1|[Churrasqueira, E...|      2|  null| 1.0|Freguesia (Jacare...|  Zona Oeste|     780.0| 660.0|160000.0|\n",
      "|390d2b88-e06d-47e...|    0|       70|        2|   [Salão de festas]|      2|   0.0| 1.0|          Praça Seca|  Zona Oeste|  420000.0|  null|159000.0|\n",
      "|07bb07c1-21cc-4da...|    2|       48|        1|[Condomínio fecha...|      1|   0.0| 0.0|             Piedade|  Zona Norte|      10.0|  10.0|170000.0|\n",
      "|7d3a1bae-988c-44b...|    5|       40|        1|[Playground, Chur...|      2|   0.0| 1.0|        Braz de Pina|  Zona Norte|     150.0| 120.0|189000.0|\n",
      "|47af17f0-1c81-474...|    0|       65|        1|                null|      2|   0.0| 1.0|            Campinho|  Zona Oeste|     432.0|  null|185000.0|\n",
      "|a9bd1575-e9f2-43d...|    2|       50|        1|[Condomínio fecha...|      1|   0.0| 1.0|           Madureira|  Zona Norte|     650.0|   1.0|185000.0|\n",
      "|cfca7253-3d02-4cd...|    5|       45|        1|[Academia, Churra...|      2|   1.0| 0.0|             Taquara|  Zona Oeste|     150.0|  40.0|199000.0|\n",
      "|b571ae97-e3d8-4fb...|    0|       48|        1|[Academia, Condom...|      2|  null| 0.0|          Bonsucesso|  Zona Norte|       0.0|   0.0|205933.0|\n",
      "|eb5fdc65-acae-45f...|    0|       44|        1|[Academia, Condom...|      2|  null| 0.0|          Bonsucesso|  Zona Norte|       0.0|   0.0|206000.0|\n",
      "|77cd0388-e3ff-40c...|    2|       64|        1|                null|      2|   0.0| 0.0|      Jardim América|  Zona Norte|       0.0|   0.0|220000.0|\n",
      "|74a91f07-7387-4a8...|    0|       55|        2|[Salão de festas,...|      1|   0.0| 1.0|        Engenho Novo|  Zona Norte|     600.0| 652.0|219130.0|\n",
      "|6aab1165-508d-455...|    3|       60|        1|[Animais permitidos]|      3|   0.0| 1.0|           Cascadura|  Zona Norte|      98.0|   1.0|230000.0|\n",
      "+--------------------+-----+---------+---------+--------------------+-------+------+----+--------------------+------------+----------+------+--------+\n",
      "only showing top 20 rows\n",
      "\n"
     ]
    }
   ],
   "source": [
    "dataset = dataset.withColumn('caracteristicas', f.when((f.size(f.col('caracteristicas')) == 0), f.lit(None)).otherwise(f.col('caracteristicas')))\n",
    "dataset.show()"
   ]
  },
  {
   "cell_type": "markdown",
   "id": "3be4c2f7-e47e-4770-9ccb-824a9ea32e17",
   "metadata": {},
   "source": [
    "# Tratando dados faltantes"
   ]
  },
  {
   "cell_type": "code",
   "execution_count": 30,
   "id": "87e3975a-3646-4b74-87d0-0983213af8e6",
   "metadata": {
    "scrolled": true
   },
   "outputs": [
    {
     "name": "stdout",
     "output_type": "stream",
     "text": [
      "root\n",
      " |-- id: string (nullable = true)\n",
      " |-- andar: integer (nullable = true)\n",
      " |-- area_util: integer (nullable = true)\n",
      " |-- banheiros: integer (nullable = true)\n",
      " |-- caracteristicas: array (nullable = true)\n",
      " |    |-- element: string (containsNull = true)\n",
      " |-- quartos: integer (nullable = true)\n",
      " |-- suites: double (nullable = true)\n",
      " |-- vaga: double (nullable = true)\n",
      " |-- bairro: string (nullable = true)\n",
      " |-- zona: string (nullable = true)\n",
      " |-- condominio: double (nullable = true)\n",
      " |-- iptu: double (nullable = true)\n",
      " |-- valor: double (nullable = true)\n",
      "\n"
     ]
    }
   ],
   "source": [
    "dataset.printSchema()"
   ]
  },
  {
   "cell_type": "code",
   "execution_count": 35,
   "id": "5243ef4a-f7bc-425c-a798-35c1e29662ce",
   "metadata": {},
   "outputs": [
    {
     "data": {
      "text/plain": [
       "{'id': 0,\n",
       " 'andar': 0,\n",
       " 'area_util': 0,\n",
       " 'banheiros': 0,\n",
       " 'caracteristicas': 12736,\n",
       " 'quartos': 0,\n",
       " 'suites': 5554,\n",
       " 'vaga': 3017,\n",
       " 'bairro': 0,\n",
       " 'zona': 0,\n",
       " 'condominio': 2371,\n",
       " 'iptu': 7199,\n",
       " 'valor': 0}"
      ]
     },
     "execution_count": 35,
     "metadata": {},
     "output_type": "execute_result"
    }
   ],
   "source": [
    "# 1 Solução\n",
    "\n",
    "dicionarios_nulos = {col:dataset.filter(dataset[col].isNull()).count() for col in dataset.columns}\n",
    "dicionarios_nulos"
   ]
  },
  {
   "cell_type": "code",
   "execution_count": 36,
   "id": "20eee2dc-e05a-4e94-aa0d-c76884e93c76",
   "metadata": {},
   "outputs": [
    {
     "name": "stdout",
     "output_type": "stream",
     "text": [
      "+---+-----+---------+---------+---------------+-------+------+----+------+----+----------+----+-----+\n",
      "| id|andar|area_util|banheiros|caracteristicas|quartos|suites|vaga|bairro|zona|condominio|iptu|valor|\n",
      "+---+-----+---------+---------+---------------+-------+------+----+------+----+----------+----+-----+\n",
      "|  0|    0|        0|        0|          12736|      0|  5554|3017|     0|   0|      2371|7199|    0|\n",
      "+---+-----+---------+---------+---------------+-------+------+----+------+----+----------+----+-----+\n",
      "\n"
     ]
    }
   ],
   "source": [
    "# 2 Solução\n",
    "\n",
    "dataset\\\n",
    "    .select([f.count(f.when(dataset[c].isNull(),True)).alias(c) for c in dataset.columns])\\\n",
    "    .show()"
   ]
  },
  {
   "cell_type": "code",
   "execution_count": 37,
   "id": "7234383d-ea60-4e83-8b75-18a17221662d",
   "metadata": {},
   "outputs": [
    {
     "name": "stdout",
     "output_type": "stream",
     "text": [
      "+---+-----+---------+---------+-------+------+----+------+----+----------+----+-----+\n",
      "| id|andar|area_util|banheiros|quartos|suites|vaga|bairro|zona|condominio|iptu|valor|\n",
      "+---+-----+---------+---------+-------+------+----+------+----+----------+----+-----+\n",
      "|  0|    0|        0|        0|      0|  5554|3017|     0|   0|      2371|7199|    0|\n",
      "+---+-----+---------+---------+-------+------+----+------+----+----------+----+-----+\n",
      "\n"
     ]
    },
    {
     "name": "stderr",
     "output_type": "stream",
     "text": [
      "                                                                                \r"
     ]
    }
   ],
   "source": [
    "# 3 solução\n",
    "\n",
    "dataset\\\n",
    "    .select([f.count(f.when(f.isnan(c) | f.isnull(c), True)).alias(c) for c in dataset.columns if c != 'caracteristicas'])\\\n",
    "    .show()"
   ]
  },
  {
   "cell_type": "code",
   "execution_count": 38,
   "id": "bb7c4759-5369-44c8-a688-c35ba9cd3a65",
   "metadata": {},
   "outputs": [
    {
     "name": "stdout",
     "output_type": "stream",
     "text": [
      "+--------------------+-----+---------+---------+--------------------+-------+------+----+--------------------+------------+----------+------+--------+\n",
      "|                  id|andar|area_util|banheiros|     caracteristicas|quartos|suites|vaga|              bairro|        zona|condominio|  iptu|   valor|\n",
      "+--------------------+-----+---------+---------+--------------------+-------+------+----+--------------------+------------+----------+------+--------+\n",
      "|03a386b6-7ab8-4ef...|    0|       43|        1|[Churrasqueira, A...|      2|   0.0| 1.0|            Realengo|  Zona Oeste|     285.0|   0.0| 22999.0|\n",
      "|1fe78d41-b8e0-4d2...|    0|       44|        1|                null|      2|   0.0| 0.0|               Irajá|  Zona Norte|     170.0|   0.0|110000.0|\n",
      "|1fa1c1e5-e98c-433...|    4|       55|        1|                null|      2|   0.0| 1.0|              Cosmos|  Zona Oeste|       0.0|   0.0|115000.0|\n",
      "|a6ab01ae-3d40-40e...|    2|       55|        1|                null|      2|   0.0| 0.0|        Tomás Coelho|  Zona Norte|       0.0|   0.0|115000.0|\n",
      "|1d8ff7a2-16bd-4e3...|    0|       50|        1|                null|      1|   0.0| 0.0|              Centro|Zona Central|    1300.0|2679.0|125000.0|\n",
      "|40a2cbde-946b-42d...|    2|       47|        1|[Condomínio fecha...|      2|   0.0| 1.0|        Campo Grande|  Zona Oeste|     380.0|   0.0|138000.0|\n",
      "|be269ddf-a4a3-4a7...|    0|       45|        1|[Churrasqueira, C...|      2|   0.0| 1.0|        Campo Grande|  Zona Oeste|     356.0|   0.0|140000.0|\n",
      "|4b7e3d59-34fd-4ba...|    3|       48|        1|[Churrasqueira, P...|      2|   0.0| 1.0|        Campo Grande|  Zona Oeste|       0.0|   0.0|150000.0|\n",
      "|a1a0c2ac-4fa8-4b0...|    9|       55|        1|[Churrasqueira, E...|      2|   0.0| 1.0|Freguesia (Jacare...|  Zona Oeste|     780.0| 660.0|160000.0|\n",
      "|390d2b88-e06d-47e...|    0|       70|        2|   [Salão de festas]|      2|   0.0| 1.0|          Praça Seca|  Zona Oeste|  420000.0|   0.0|159000.0|\n",
      "|07bb07c1-21cc-4da...|    2|       48|        1|[Condomínio fecha...|      1|   0.0| 0.0|             Piedade|  Zona Norte|      10.0|  10.0|170000.0|\n",
      "|7d3a1bae-988c-44b...|    5|       40|        1|[Playground, Chur...|      2|   0.0| 1.0|        Braz de Pina|  Zona Norte|     150.0| 120.0|189000.0|\n",
      "|47af17f0-1c81-474...|    0|       65|        1|                null|      2|   0.0| 1.0|            Campinho|  Zona Oeste|     432.0|   0.0|185000.0|\n",
      "|a9bd1575-e9f2-43d...|    2|       50|        1|[Condomínio fecha...|      1|   0.0| 1.0|           Madureira|  Zona Norte|     650.0|   1.0|185000.0|\n",
      "|cfca7253-3d02-4cd...|    5|       45|        1|[Academia, Churra...|      2|   1.0| 0.0|             Taquara|  Zona Oeste|     150.0|  40.0|199000.0|\n",
      "|b571ae97-e3d8-4fb...|    0|       48|        1|[Academia, Condom...|      2|   0.0| 0.0|          Bonsucesso|  Zona Norte|       0.0|   0.0|205933.0|\n",
      "|eb5fdc65-acae-45f...|    0|       44|        1|[Academia, Condom...|      2|   0.0| 0.0|          Bonsucesso|  Zona Norte|       0.0|   0.0|206000.0|\n",
      "|77cd0388-e3ff-40c...|    2|       64|        1|                null|      2|   0.0| 0.0|      Jardim América|  Zona Norte|       0.0|   0.0|220000.0|\n",
      "|74a91f07-7387-4a8...|    0|       55|        2|[Salão de festas,...|      1|   0.0| 1.0|        Engenho Novo|  Zona Norte|     600.0| 652.0|219130.0|\n",
      "|6aab1165-508d-455...|    3|       60|        1|[Animais permitidos]|      3|   0.0| 1.0|           Cascadura|  Zona Norte|      98.0|   1.0|230000.0|\n",
      "+--------------------+-----+---------+---------+--------------------+-------+------+----+--------------------+------------+----------+------+--------+\n",
      "only showing top 20 rows\n",
      "\n"
     ]
    }
   ],
   "source": [
    "dataset\\\n",
    "    .select('*')\\\n",
    "    .na\\\n",
    "    .fill(0)\\\n",
    "    .show()"
   ]
  },
  {
   "cell_type": "code",
   "execution_count": 39,
   "id": "1fbf8356-de7a-4976-821b-ada94acffa4a",
   "metadata": {},
   "outputs": [],
   "source": [
    "dataset = dataset\\\n",
    "    .select('*')\\\n",
    "    .na\\\n",
    "    .fill(0)"
   ]
  },
  {
   "cell_type": "code",
   "execution_count": 40,
   "id": "945b0fe3-5b90-42d0-8a0a-ea543ab0b510",
   "metadata": {},
   "outputs": [
    {
     "name": "stdout",
     "output_type": "stream",
     "text": [
      "+------------+-----+\n",
      "|        zona|count|\n",
      "+------------+-----+\n",
      "|  Zona Norte|11897|\n",
      "|  Zona Oeste|32979|\n",
      "|Zona Central| 1144|\n",
      "|    Zona Sul|20531|\n",
      "|            |   11|\n",
      "+------------+-----+\n",
      "\n"
     ]
    }
   ],
   "source": [
    "dataset\\\n",
    "    .select('zona')\\\n",
    "    .groupBy('zona')\\\n",
    "    .count()\\\n",
    "    .show()"
   ]
  },
  {
   "cell_type": "code",
   "execution_count": 41,
   "id": "82f7b894-67de-4323-9a05-a65d81964e3d",
   "metadata": {},
   "outputs": [],
   "source": [
    "dataset = dataset\\\n",
    "    .where(f.col('zona') != '')"
   ]
  },
  {
   "cell_type": "markdown",
   "id": "c750de11-4838-4ca0-ad15-4d46a75949d7",
   "metadata": {},
   "source": [
    "# Preparação dos dados para ML"
   ]
  },
  {
   "cell_type": "code",
   "execution_count": 45,
   "id": "1a0d586d-5191-483a-b067-3adbf81d6291",
   "metadata": {},
   "outputs": [
    {
     "name": "stdout",
     "output_type": "stream",
     "text": [
      "root\n",
      " |-- id: string (nullable = true)\n",
      " |-- andar: integer (nullable = true)\n",
      " |-- area_util: integer (nullable = true)\n",
      " |-- banheiros: integer (nullable = true)\n",
      " |-- caracteristicas: array (nullable = true)\n",
      " |    |-- element: string (containsNull = true)\n",
      " |-- quartos: integer (nullable = true)\n",
      " |-- suites: double (nullable = false)\n",
      " |-- vaga: double (nullable = false)\n",
      " |-- bairro: string (nullable = true)\n",
      " |-- zona: string (nullable = true)\n",
      " |-- condominio: double (nullable = false)\n",
      " |-- iptu: double (nullable = false)\n",
      " |-- valor: double (nullable = false)\n",
      "\n"
     ]
    }
   ],
   "source": [
    "dataset.printSchema()"
   ]
  },
  {
   "cell_type": "code",
   "execution_count": 46,
   "id": "af208c45-4b34-42a5-8ac9-4a69f815249b",
   "metadata": {},
   "outputs": [
    {
     "name": "stdout",
     "output_type": "stream",
     "text": [
      "+--------------------+-----+---------+---------+--------------------+-------+------+----+------------+----------+----------+----+--------+------------------+\n",
      "|                  id|andar|area_util|banheiros|     caracteristicas|quartos|suites|vaga|      bairro|      zona|condominio|iptu|   valor|    caracteristica|\n",
      "+--------------------+-----+---------+---------+--------------------+-------+------+----+------------+----------+----------+----+--------+------------------+\n",
      "|03a386b6-7ab8-4ef...|    0|       43|        1|[Churrasqueira, A...|      2|   0.0| 1.0|    Realengo|Zona Oeste|     285.0| 0.0| 22999.0|     Churrasqueira|\n",
      "|03a386b6-7ab8-4ef...|    0|       43|        1|[Churrasqueira, A...|      2|   0.0| 1.0|    Realengo|Zona Oeste|     285.0| 0.0| 22999.0|          Academia|\n",
      "|03a386b6-7ab8-4ef...|    0|       43|        1|[Churrasqueira, A...|      2|   0.0| 1.0|    Realengo|Zona Oeste|     285.0| 0.0| 22999.0|        Playground|\n",
      "|03a386b6-7ab8-4ef...|    0|       43|        1|[Churrasqueira, A...|      2|   0.0| 1.0|    Realengo|Zona Oeste|     285.0| 0.0| 22999.0|   Salão de festas|\n",
      "|03a386b6-7ab8-4ef...|    0|       43|        1|[Churrasqueira, A...|      2|   0.0| 1.0|    Realengo|Zona Oeste|     285.0| 0.0| 22999.0|Condomínio fechado|\n",
      "|03a386b6-7ab8-4ef...|    0|       43|        1|[Churrasqueira, A...|      2|   0.0| 1.0|    Realengo|Zona Oeste|     285.0| 0.0| 22999.0| Portão eletrônico|\n",
      "|03a386b6-7ab8-4ef...|    0|       43|        1|[Churrasqueira, A...|      2|   0.0| 1.0|    Realengo|Zona Oeste|     285.0| 0.0| 22999.0|      Portaria 24h|\n",
      "|03a386b6-7ab8-4ef...|    0|       43|        1|[Churrasqueira, A...|      2|   0.0| 1.0|    Realengo|Zona Oeste|     285.0| 0.0| 22999.0|Animais permitidos|\n",
      "|40a2cbde-946b-42d...|    2|       47|        1|[Condomínio fecha...|      2|   0.0| 1.0|Campo Grande|Zona Oeste|     380.0| 0.0|138000.0|Condomínio fechado|\n",
      "|40a2cbde-946b-42d...|    2|       47|        1|[Condomínio fecha...|      2|   0.0| 1.0|Campo Grande|Zona Oeste|     380.0| 0.0|138000.0|      Portaria 24h|\n",
      "|40a2cbde-946b-42d...|    2|       47|        1|[Condomínio fecha...|      2|   0.0| 1.0|Campo Grande|Zona Oeste|     380.0| 0.0|138000.0|   Salão de festas|\n",
      "|40a2cbde-946b-42d...|    2|       47|        1|[Condomínio fecha...|      2|   0.0| 1.0|Campo Grande|Zona Oeste|     380.0| 0.0|138000.0|     Churrasqueira|\n",
      "|40a2cbde-946b-42d...|    2|       47|        1|[Condomínio fecha...|      2|   0.0| 1.0|Campo Grande|Zona Oeste|     380.0| 0.0|138000.0|           Piscina|\n",
      "|40a2cbde-946b-42d...|    2|       47|        1|[Condomínio fecha...|      2|   0.0| 1.0|Campo Grande|Zona Oeste|     380.0| 0.0|138000.0|Animais permitidos|\n",
      "|be269ddf-a4a3-4a7...|    0|       45|        1|[Churrasqueira, C...|      2|   0.0| 1.0|Campo Grande|Zona Oeste|     356.0| 0.0|140000.0|     Churrasqueira|\n",
      "|be269ddf-a4a3-4a7...|    0|       45|        1|[Churrasqueira, C...|      2|   0.0| 1.0|Campo Grande|Zona Oeste|     356.0| 0.0|140000.0|Condomínio fechado|\n",
      "|be269ddf-a4a3-4a7...|    0|       45|        1|[Churrasqueira, C...|      2|   0.0| 1.0|Campo Grande|Zona Oeste|     356.0| 0.0|140000.0|           Piscina|\n",
      "|4b7e3d59-34fd-4ba...|    3|       48|        1|[Churrasqueira, P...|      2|   0.0| 1.0|Campo Grande|Zona Oeste|       0.0| 0.0|150000.0|     Churrasqueira|\n",
      "|4b7e3d59-34fd-4ba...|    3|       48|        1|[Churrasqueira, P...|      2|   0.0| 1.0|Campo Grande|Zona Oeste|       0.0| 0.0|150000.0|           Piscina|\n",
      "|4b7e3d59-34fd-4ba...|    3|       48|        1|[Churrasqueira, P...|      2|   0.0| 1.0|Campo Grande|Zona Oeste|       0.0| 0.0|150000.0|        Playground|\n",
      "+--------------------+-----+---------+---------+--------------------+-------+------+----+------------+----------+----------+----+--------+------------------+\n",
      "only showing top 20 rows\n",
      "\n"
     ]
    }
   ],
   "source": [
    "dataset.select(\"*\", f.explode(\"caracteristicas\").alias(\"caracteristica\")).show()"
   ]
  },
  {
   "cell_type": "code",
   "execution_count": 47,
   "id": "efdba904-084f-40b0-bb5b-e606ec54a148",
   "metadata": {
    "scrolled": true
   },
   "outputs": [
    {
     "name": "stderr",
     "output_type": "stream",
     "text": [
      "[Stage 168:==========================================>             (9 + 3) / 12]\r"
     ]
    },
    {
     "name": "stdout",
     "output_type": "stream",
     "text": [
      "+------------------------------------+--------+------------------+-------------+------------------+--------+-------+----------+------------+-----------------+---------------+\n",
      "|id                                  |Academia|Animais permitidos|Churrasqueira|Condomínio fechado|Elevador|Piscina|Playground|Portaria 24h|Portão eletrônico|Salão de festas|\n",
      "+------------------------------------+--------+------------------+-------------+------------------+--------+-------+----------+------------+-----------------+---------------+\n",
      "|fd96bbd5-d631-416a-9f84-29091cefe14c|1       |1                 |1            |1                 |1       |1      |1         |1           |1                |1              |\n",
      "|bfffedfe-99e7-4aed-9a9f-f766225a0f1f|0       |1                 |1            |1                 |1       |0      |1         |0           |1                |1              |\n",
      "|fcb67af3-5601-415f-9d1f-75280923a4e3|1       |1                 |1            |0                 |0       |1      |1         |0           |0                |1              |\n",
      "|afecddff-f4cc-4ab8-bdbf-242b7dff7241|1       |1                 |1            |1                 |1       |1      |1         |1           |1                |1              |\n",
      "|1bbc40f3-4f5c-4595-99b1-56ef42a54ede|1       |0                 |0            |1                 |1       |1      |1         |1           |1                |1              |\n",
      "|fd26aeb2-a7b3-4f80-97ed-fe3eb928c123|1       |1                 |1            |1                 |1       |1      |1         |1           |1                |1              |\n",
      "|10e9d118-dbad-43c3-879d-6def0d60f8ed|0       |1                 |1            |1                 |0       |1      |1         |1           |1                |1              |\n",
      "|ca1e84d7-86c8-4b1e-aa5a-db99c8c9d0d3|1       |0                 |1            |1                 |1       |1      |1         |1           |1                |1              |\n",
      "|d9e139a5-e85d-4e1b-b77f-1b120d146fb3|1       |1                 |1            |1                 |1       |1      |1         |1           |1                |1              |\n",
      "|156a1fa5-37ca-43db-8448-df4a35f45496|1       |0                 |1            |1                 |1       |1      |1         |1           |1                |1              |\n",
      "|e7be09eb-6223-4b41-b255-30a5f7d67771|1       |1                 |1            |1                 |1       |1      |1         |1           |1                |1              |\n",
      "|631efda0-5e10-422c-990a-f6c47f6ec4c7|1       |1                 |1            |1                 |1       |1      |1         |1           |1                |1              |\n",
      "|07cbfef2-efbf-4e89-a023-db65e76cc820|0       |1                 |0            |0                 |1       |0      |0         |1           |0                |0              |\n",
      "|62baf185-103d-4489-956a-d2cc707a66cd|1       |0                 |1            |1                 |0       |1      |1         |0           |0                |0              |\n",
      "|3030d17c-5681-4b2f-b333-3e363a92ddda|1       |1                 |1            |1                 |1       |1      |0         |1           |1                |1              |\n",
      "|6179c8a4-1fd2-4f54-a91d-68d1ba80dd26|1       |1                 |0            |1                 |1       |1      |1         |1           |1                |1              |\n",
      "|c284072a-7298-4e5a-bc0b-a90b3a0f17fc|1       |1                 |1            |1                 |1       |1      |1         |1           |1                |1              |\n",
      "|7e43514c-3b40-4fbd-9ad4-1fcac078134d|1       |1                 |1            |1                 |1       |1      |1         |1           |1                |1              |\n",
      "|6a4ce9ac-1eb0-4d4b-9a65-5e6d842777bf|1       |0                 |1            |0                 |1       |1      |1         |0           |0                |1              |\n",
      "|bdc6127a-1d97-41b4-a736-85122e76bd5e|1       |0                 |1            |0                 |0       |0      |0         |0           |0                |1              |\n",
      "+------------------------------------+--------+------------------+-------------+------------------+--------+-------+----------+------------+-----------------+---------------+\n",
      "only showing top 20 rows\n",
      "\n"
     ]
    },
    {
     "name": "stderr",
     "output_type": "stream",
     "text": [
      "                                                                                \r"
     ]
    }
   ],
   "source": [
    "dataset\\\n",
    "    .select(\"*\", f.explode(\"caracteristicas\").alias(\"cara\"))\\\n",
    "    .groupBy(\"id\")\\\n",
    "    .pivot('cara')\\\n",
    "    .agg(f.lit(1))\\\n",
    "    .na\\\n",
    "    .fill(0)\\\n",
    "    .show(truncate=False)"
   ]
  },
  {
   "cell_type": "code",
   "execution_count": 54,
   "id": "1f1859de-79e1-43af-93f4-e15f5b9f4b2d",
   "metadata": {},
   "outputs": [],
   "source": [
    "\n",
    "caracteristicas = dataset\\\n",
    "    .select(\"*\", f.explode(\"caracteristicas\").alias(\"cara\"))\\\n",
    "    .groupBy(\"id\")\\\n",
    "    .pivot('cara')\\\n",
    "    .agg(f.lit(1))"
   ]
  },
  {
   "cell_type": "code",
   "execution_count": 55,
   "id": "95a50bc0-7663-499e-a970-7b9654724d28",
   "metadata": {},
   "outputs": [],
   "source": [
    "zona = dataset\\\n",
    "    .groupBy(\"id\")\\\n",
    "    .pivot('zona')\\\n",
    "    .agg(f.lit(1))"
   ]
  },
  {
   "cell_type": "code",
   "execution_count": 56,
   "id": "9ffeb52f-8cf4-4dfc-9a4c-dcca833e1417",
   "metadata": {},
   "outputs": [
    {
     "name": "stdout",
     "output_type": "stream",
     "text": [
      "+------------------------------------+-----+---------+---------+-------------------------------------------------------------------------------------------------------------------------------+-------+------+----+-----------------------+------------+----------+------+--------+\n",
      "|id                                  |andar|area_util|banheiros|caracteristicas                                                                                                                |quartos|suites|vaga|bairro                 |zona        |condominio|iptu  |valor   |\n",
      "+------------------------------------+-----+---------+---------+-------------------------------------------------------------------------------------------------------------------------------+-------+------+----+-----------------------+------------+----------+------+--------+\n",
      "|03a386b6-7ab8-4eff-891d-f8a16efc1989|0    |43       |1        |[Churrasqueira, Academia, Playground, Salão de festas, Condomínio fechado, Portão eletrônico, Portaria 24h, Animais permitidos]|2      |0.0   |1.0 |Realengo               |Zona Oeste  |285.0     |0.0   |22999.0 |\n",
      "|1fe78d41-b8e0-4d21-a1a8-72cb7863f441|0    |44       |1        |null                                                                                                                           |2      |0.0   |0.0 |Irajá                  |Zona Norte  |170.0     |0.0   |110000.0|\n",
      "|1fa1c1e5-e98c-433f-9675-1b43d7d6da01|4    |55       |1        |null                                                                                                                           |2      |0.0   |1.0 |Cosmos                 |Zona Oeste  |0.0       |0.0   |115000.0|\n",
      "|a6ab01ae-3d40-40e7-bb6a-f2334e0abbe0|2    |55       |1        |null                                                                                                                           |2      |0.0   |0.0 |Tomás Coelho           |Zona Norte  |0.0       |0.0   |115000.0|\n",
      "|1d8ff7a2-16bd-4e3f-a92e-1b85f923ebb0|0    |50       |1        |null                                                                                                                           |1      |0.0   |0.0 |Centro                 |Zona Central|1300.0    |2679.0|125000.0|\n",
      "|40a2cbde-946b-42da-b7f2-b80057c7a47f|2    |47       |1        |[Condomínio fechado, Portaria 24h, Salão de festas, Churrasqueira, Piscina, Animais permitidos]                                |2      |0.0   |1.0 |Campo Grande           |Zona Oeste  |380.0     |0.0   |138000.0|\n",
      "|be269ddf-a4a3-4a72-bd54-93cdccf512dd|0    |45       |1        |[Churrasqueira, Condomínio fechado, Piscina]                                                                                   |2      |0.0   |1.0 |Campo Grande           |Zona Oeste  |356.0     |0.0   |140000.0|\n",
      "|4b7e3d59-34fd-4bac-9232-1015cb3b3a24|3    |48       |1        |[Churrasqueira, Piscina, Playground, Salão de festas, Condomínio fechado, Portão eletrônico, Portaria 24h, Animais permitidos] |2      |0.0   |1.0 |Campo Grande           |Zona Oeste  |0.0       |0.0   |150000.0|\n",
      "|a1a0c2ac-4fa8-4b02-a087-f9d76b6bccb7|9    |55       |1        |[Churrasqueira, Elevador, Salão de festas, Condomínio fechado, Portão eletrônico, Portaria 24h, Animais permitidos]            |2      |0.0   |1.0 |Freguesia (Jacarepaguá)|Zona Oeste  |780.0     |660.0 |160000.0|\n",
      "|390d2b88-e06d-47e5-ba7f-a680130ac5f0|0    |70       |2        |[Salão de festas]                                                                                                              |2      |0.0   |1.0 |Praça Seca             |Zona Oeste  |420000.0  |0.0   |159000.0|\n",
      "+------------------------------------+-----+---------+---------+-------------------------------------------------------------------------------------------------------------------------------+-------+------+----+-----------------------+------------+----------+------+--------+\n",
      "only showing top 10 rows\n",
      "\n"
     ]
    }
   ],
   "source": [
    "dataset.show(10, truncate=False)\n"
   ]
  },
  {
   "cell_type": "code",
   "execution_count": 57,
   "id": "133ed83b-6197-47cc-9b78-57170e4b3f70",
   "metadata": {},
   "outputs": [],
   "source": [
    "# contando a quantidade total de linhas do dataset original\n",
    "count_rows_original = dataset.count()"
   ]
  },
  {
   "cell_type": "code",
   "execution_count": 58,
   "id": "b3b96eb6-7a0f-4f79-bfc1-e9c715f348df",
   "metadata": {},
   "outputs": [],
   "source": [
    "# juntando os dados utilizando o metodo join\n",
    "dataset = dataset\\\n",
    "    .join(zona, 'id', how='inner')\\\n",
    "    .join(caracteristicas, 'id', how='left')\\\n",
    "    .drop('zona', 'cara', 'caracteristicas')\\\n",
    "    .na\\\n",
    "    .fill(0)"
   ]
  },
  {
   "cell_type": "code",
   "execution_count": 59,
   "id": "fafef5d9-4b2d-40f3-9271-043202236bb6",
   "metadata": {},
   "outputs": [
    {
     "name": "stdout",
     "output_type": "stream",
     "text": [
      "Quantidade de linhas antes:  66551\n",
      "Quantidade de linhas depois:  66551\n",
      "Quantidade de linhas perdidas:  0\n"
     ]
    }
   ],
   "source": [
    "# comparando se o join funcionou corretamente e ainda temos a mesma quantidade de linhas do dataset original\n",
    "print(\"Quantidade de linhas antes: \", count_rows_original)\n",
    "print(\"Quantidade de linhas depois: \", dataset.count())\n",
    "print(\"Quantidade de linhas perdidas: \", count_rows_original - dataset.count())"
   ]
  },
  {
   "cell_type": "code",
   "execution_count": 60,
   "id": "5cabd535-b734-41a4-ae48-79e3f91ef48e",
   "metadata": {},
   "outputs": [
    {
     "name": "stderr",
     "output_type": "stream",
     "text": [
      "                                                                                \r"
     ]
    },
    {
     "name": "stdout",
     "output_type": "stream",
     "text": [
      "+--------------------+-----+---------+---------+-------+------+----+-----------+----------+------+---------+------------+----------+----------+--------+--------+------------------+-------------+------------------+--------+-------+----------+------------+-----------------+---------------+\n",
      "|                  id|andar|area_util|banheiros|quartos|suites|vaga|     bairro|condominio|  iptu|    valor|Zona Central|Zona Norte|Zona Oeste|Zona Sul|Academia|Animais permitidos|Churrasqueira|Condomínio fechado|Elevador|Piscina|Playground|Portaria 24h|Portão eletrônico|Salão de festas|\n",
      "+--------------------+-----+---------+---------+-------+------+----+-----------+----------+------+---------+------------+----------+----------+--------+--------+------------------+-------------+------------------+--------+-------+----------+------------+-----------------+---------------+\n",
      "|02fba6ef-a691-442...|    3|       64|        1|      2|   2.0| 1.0|Jacarepaguá|     784.0|  80.0| 380000.0|           0|         0|         1|       0|       1|                 1|            1|                 1|       1|      1|         1|           1|                1|              1|\n",
      "|3dd5d200-0a7f-43d...|    0|      170|        3|      4|   1.0| 1.0|Cosme Velho|    2250.0|3000.0|1450000.0|           0|         0|         0|       1|       0|                 0|            0|                 0|       1|      0|         0|           0|                0|              0|\n",
      "|4e47e4d4-3326-4eb...|    0|       90|        2|      3|   1.0| 0.0| Copacabana|     950.0|2677.0| 949020.0|           0|         0|         0|       1|       0|                 0|            0|                 0|       1|      0|         0|           0|                0|              0|\n",
      "|82707939-71bd-40c...|    0|      525|        4|      4|   2.0| 2.0|   Flamengo|    5000.0|2100.0|5199000.0|           0|         0|         0|       1|       0|                 0|            0|                 0|       0|      0|         0|           0|                0|              0|\n",
      "|ece1e671-cb4d-48a...|    0|       50|        1|      2|   0.0| 1.0|     Centro|     320.0|  80.0| 330000.0|           1|         0|         0|       0|       1|                 1|            1|                 1|       1|      1|         1|           1|                1|              1|\n",
      "+--------------------+-----+---------+---------+-------+------+----+-----------+----------+------+---------+------------+----------+----------+--------+--------+------------------+-------------+------------------+--------+-------+----------+------------+-----------------+---------------+\n",
      "only showing top 5 rows\n",
      "\n"
     ]
    }
   ],
   "source": [
    "dataset.show(5)"
   ]
  },
  {
   "cell_type": "code",
   "execution_count": 61,
   "id": "3bf0cfe4-8d0e-494b-9bfd-ceff53c8f118",
   "metadata": {
    "scrolled": true
   },
   "outputs": [
    {
     "name": "stdout",
     "output_type": "stream",
     "text": [
      "+--------------------+-----+---------+---------+-------+------+----+------------+----------+----+--------+------------+----------+----------+--------+--------+------------------+-------------+------------------+--------+-------+----------+------------+-----------------+---------------+\n",
      "|                  id|andar|area_util|banheiros|quartos|suites|vaga|      bairro|condominio|iptu|   valor|Zona Central|Zona Norte|Zona Oeste|Zona Sul|Academia|Animais permitidos|Churrasqueira|Condomínio fechado|Elevador|Piscina|Playground|Portaria 24h|Portão eletrônico|Salão de festas|\n",
      "+--------------------+-----+---------+---------+-------+------+----+------------+----------+----+--------+------------+----------+----------+--------+--------+------------------+-------------+------------------+--------+-------+----------+------------+-----------------+---------------+\n",
      "|be269ddf-a4a3-4a7...|    0|       45|        1|      2|   0.0| 1.0|Campo Grande|     356.0| 0.0|140000.0|           0|         0|         1|       0|       0|                 0|            1|                 1|       0|      1|         0|           0|                0|              0|\n",
      "+--------------------+-----+---------+---------+-------+------+----+------------+----------+----+--------+------------+----------+----------+--------+--------+------------------+-------------+------------------+--------+-------+----------+------------+-----------------+---------------+\n",
      "\n"
     ]
    }
   ],
   "source": [
    "# Conferindo o ID e se as colunas dummies referentes a esse ID estão corretas.\n",
    "\n",
    "dataset.filter(f.col('id')==\"be269ddf-a4a3-4a72-bd54-93cdccf512dd\").show(5)"
   ]
  },
  {
   "cell_type": "markdown",
   "id": "a790f51a-f290-42d6-98f5-d36633079c05",
   "metadata": {},
   "source": [
    "# Salvando dados em parquet"
   ]
  },
  {
   "cell_type": "code",
   "execution_count": 62,
   "id": "834502a0-ec52-4832-8e23-3c4476b0df8c",
   "metadata": {},
   "outputs": [
    {
     "name": "stderr",
     "output_type": "stream",
     "text": [
      "[Stage 260:>                                                      (0 + 12) / 12]\r"
     ]
    },
    {
     "name": "stdout",
     "output_type": "stream",
     "text": [
      "23/08/28 12:07:10 WARN MemoryManager: Total allocation exceeds 95.00% (1,020,054,720 bytes) of heap memory\n",
      "Scaling row group sizes to 95.00% for 8 writers\n",
      "23/08/28 12:07:10 WARN MemoryManager: Total allocation exceeds 95.00% (1,020,054,720 bytes) of heap memory\n",
      "Scaling row group sizes to 84.44% for 9 writers\n",
      "23/08/28 12:07:10 WARN MemoryManager: Total allocation exceeds 95.00% (1,020,054,720 bytes) of heap memory\n",
      "Scaling row group sizes to 76.00% for 10 writers\n",
      "23/08/28 12:07:10 WARN MemoryManager: Total allocation exceeds 95.00% (1,020,054,720 bytes) of heap memory\n",
      "Scaling row group sizes to 69.09% for 11 writers\n",
      "23/08/28 12:07:10 WARN MemoryManager: Total allocation exceeds 95.00% (1,020,054,720 bytes) of heap memory\n",
      "Scaling row group sizes to 63.33% for 12 writers\n",
      "23/08/28 12:07:10 WARN MemoryManager: Total allocation exceeds 95.00% (1,020,054,720 bytes) of heap memory\n",
      "Scaling row group sizes to 69.09% for 11 writers\n",
      "23/08/28 12:07:10 WARN MemoryManager: Total allocation exceeds 95.00% (1,020,054,720 bytes) of heap memory\n",
      "Scaling row group sizes to 76.00% for 10 writers\n",
      "23/08/28 12:07:10 WARN MemoryManager: Total allocation exceeds 95.00% (1,020,054,720 bytes) of heap memory\n",
      "Scaling row group sizes to 84.44% for 9 writers\n",
      "23/08/28 12:07:10 WARN MemoryManager: Total allocation exceeds 95.00% (1,020,054,720 bytes) of heap memory\n",
      "Scaling row group sizes to 95.00% for 8 writers\n"
     ]
    },
    {
     "name": "stderr",
     "output_type": "stream",
     "text": [
      "                                                                                \r"
     ]
    }
   ],
   "source": [
    "dataset.write.parquet(\"dados_salvos/dataset_ml_regressao\")"
   ]
  },
  {
   "cell_type": "markdown",
   "id": "f9d91927-afaf-470b-a280-71fad91787eb",
   "metadata": {},
   "source": [
    "# Extra: Análise de correlação"
   ]
  },
  {
   "cell_type": "code",
   "execution_count": 64,
   "id": "5c53888e-4959-4fb4-860b-91019063ebc2",
   "metadata": {},
   "outputs": [],
   "source": [
    "from pyspark.ml.stat import Correlation"
   ]
  },
  {
   "cell_type": "code",
   "execution_count": 65,
   "id": "2f127847-2c85-4663-a4e8-b815150a0210",
   "metadata": {},
   "outputs": [],
   "source": [
    "# Array das características: array_caracteristicas\n",
    "\n",
    "array_zona = ['Zona Central', 'Zona Norte', 'Zona Oeste', 'Zona Sul']\n",
    "array_caracteristicas = ['Condomínio fechado',\n",
    "                        'Playground',\n",
    "                        'Portão eletrônico',\n",
    "                        'Piscina',\n",
    "                        'Animais permitidos',\n",
    "                        'Portaria 24h',\n",
    "                        'Elevador',\n",
    "                        'Academia',\n",
    "                        'Salão de festas',\n",
    "                        'Churrasqueira']"
   ]
  },
  {
   "cell_type": "code",
   "execution_count": 66,
   "id": "ecd1106b-e3e1-4174-bc11-b3327a2e933d",
   "metadata": {},
   "outputs": [],
   "source": [
    "input_col_corr = [i for i in dataset.columns if i not in ['id', 'bairro'] + array_caracteristicas + array_zona]"
   ]
  },
  {
   "cell_type": "code",
   "execution_count": 67,
   "id": "c16b9220-07e4-45d8-962b-9be7ac07f0f1",
   "metadata": {},
   "outputs": [
    {
     "data": {
      "text/plain": [
       "['andar',\n",
       " 'area_util',\n",
       " 'banheiros',\n",
       " 'quartos',\n",
       " 'suites',\n",
       " 'vaga',\n",
       " 'condominio',\n",
       " 'iptu',\n",
       " 'valor']"
      ]
     },
     "execution_count": 67,
     "metadata": {},
     "output_type": "execute_result"
    }
   ],
   "source": [
    "input_col_corr"
   ]
  },
  {
   "cell_type": "code",
   "execution_count": 68,
   "id": "c79c667b-ec45-4624-a479-922a80ccc5ae",
   "metadata": {},
   "outputs": [],
   "source": [
    "from pyspark.ml.feature import VectorAssembler"
   ]
  },
  {
   "cell_type": "code",
   "execution_count": 70,
   "id": "043d8720-b485-4348-9a40-7042801c1b34",
   "metadata": {},
   "outputs": [],
   "source": [
    "assembler = VectorAssembler(inputCols=input_col_corr, outputCol='features')"
   ]
  },
  {
   "cell_type": "code",
   "execution_count": 71,
   "id": "46124c62-63ab-4e6e-baef-834df85ede36",
   "metadata": {},
   "outputs": [],
   "source": [
    "df = assembler.transform(dataset).select(\"features\")\n"
   ]
  },
  {
   "cell_type": "code",
   "execution_count": 72,
   "id": "bdd1b4b2-bf8d-4ab1-add2-d0fbd6dc4f4c",
   "metadata": {},
   "outputs": [
    {
     "name": "stdout",
     "output_type": "stream",
     "text": [
      "23/08/28 12:08:52 WARN InstanceBuilder$NativeBLAS: Failed to load implementation from:dev.ludovic.netlib.blas.JNIBLAS\n",
      "23/08/28 12:08:52 WARN InstanceBuilder$NativeBLAS: Failed to load implementation from:dev.ludovic.netlib.blas.ForeignLinkerBLAS\n"
     ]
    }
   ],
   "source": [
    "# A correlação estará na Matriz Densa\n",
    "\n",
    "correlation = Correlation.corr(df,\"features\",\"pearson\").collect()[0][0]"
   ]
  },
  {
   "cell_type": "code",
   "execution_count": 73,
   "id": "b96697ea-f45a-433b-a694-87399a507d16",
   "metadata": {},
   "outputs": [],
   "source": [
    "# Para converter a matriz densa em DataFrame\n",
    "rows = correlation.toArray().tolist()\n",
    "df = spark.createDataFrame(rows,input_col_corr)"
   ]
  },
  {
   "cell_type": "code",
   "execution_count": 75,
   "id": "a5d2b928-b66b-459c-afc5-cb62acf3fa78",
   "metadata": {},
   "outputs": [
    {
     "name": "stderr",
     "output_type": "stream",
     "text": [
      "                                                                                \r"
     ]
    },
    {
     "name": "stdout",
     "output_type": "stream",
     "text": [
      "+--------------------+-------------------+--------------------+--------------------+--------------------+-------------------+--------------------+--------------------+-------------------+\n",
      "|               andar|          area_util|           banheiros|             quartos|              suites|               vaga|          condominio|                iptu|              valor|\n",
      "+--------------------+-------------------+--------------------+--------------------+--------------------+-------------------+--------------------+--------------------+-------------------+\n",
      "|                 1.0|0.02067488571828799|0.017577153316700688|0.010083452784337883|0.024274113790929575|0.01827184347479576|0.006617930248882...|3.810955786364253E-4|0.01614559040185625|\n",
      "| 0.02067488571828799|                1.0|  0.6710305514515107|  0.6740755967299767|   0.620128735848129| 0.4719284382322768| 0.04567656570607198|0.021337139034349247| 0.7586357636188376|\n",
      "|0.017577153316700688| 0.6710305514515107|                 1.0|  0.6490253601518272|   0.739838048302705|0.44505851409238345|0.027186703575109897| 0.01393440561543706| 0.5750107985373806|\n",
      "|0.010083452784337883| 0.6740755967299767|  0.6490253601518272|                 1.0|  0.5799251460933647|0.43044160283032196|0.021652594286621616|0.017249962452911254| 0.5305709093076414|\n",
      "|0.024274113790929575|  0.620128735848129|   0.739838048302705|  0.5799251460933647|                 1.0|0.45818387437935737| 0.02906336464075398|0.011828513398200312| 0.5834392308806148|\n",
      "+--------------------+-------------------+--------------------+--------------------+--------------------+-------------------+--------------------+--------------------+-------------------+\n",
      "only showing top 5 rows\n",
      "\n"
     ]
    }
   ],
   "source": [
    "df.show(5)"
   ]
  },
  {
   "cell_type": "code",
   "execution_count": 76,
   "id": "e6b0038c-3688-4df2-9b48-4d9141c20f17",
   "metadata": {},
   "outputs": [
    {
     "data": {
      "image/png": "[encoded data removed]",
      "text/plain": [
       "<Figure size 1200x1200 with 1 Axes>"
      ]
     },
     "metadata": {},
     "output_type": "display_data"
    }
   ],
   "source": [
    "import numpy as np\n",
    "import matplotlib.pyplot as plt\n",
    "import seaborn as sns\n",
    "\n",
    "corr = df.toPandas().set_index([input_col_corr])\n",
    "mask = np.zeros_like(corr)\n",
    "mask[np.triu_indices_from(mask)] = True\n",
    "with sns.axes_style(\"white\"):\n",
    "    f, ax = plt.subplots(figsize=(12, 12))\n",
    "    ax = sns.heatmap(corr, mask=mask, fmt=\".2\",  annot=True, cbar=False, cmap='Oranges')\n",
    "    ax.tick_params(labelsize=14)\n",
    "    ax.set_title('Correlação entre variáveis', fontsize=20, loc='left', pad=20)"
   ]
  },
  {
   "cell_type": "markdown",
   "id": "8e0abe40-4780-4af3-911e-16de40525341",
   "metadata": {},
   "source": [
    "# Vetorizando os dados"
   ]
  },
  {
   "cell_type": "code",
   "execution_count": 77,
   "id": "4e8ef067-a0d7-4e79-8b70-f3723a3272e4",
   "metadata": {},
   "outputs": [],
   "source": [
    "from pyspark.ml.feature import VectorAssembler"
   ]
  },
  {
   "cell_type": "code",
   "execution_count": 78,
   "id": "141baa68-8729-43f2-bdcc-627b016bca12",
   "metadata": {},
   "outputs": [],
   "source": [
    "dataset = dataset.withColumnRenamed('valor','label')"
   ]
  },
  {
   "cell_type": "code",
   "execution_count": 79,
   "id": "4691c463-b090-4aec-92e2-d88978ed60f8",
   "metadata": {},
   "outputs": [],
   "source": [
    "input_col = [i for i in dataset.columns if i not in ['label', 'id', 'bairro']]"
   ]
  },
  {
   "cell_type": "code",
   "execution_count": 80,
   "id": "20c63551-42dd-4680-beaa-56f85f7dfd10",
   "metadata": {},
   "outputs": [],
   "source": [
    "assembler = VectorAssembler(inputCols = input_col, outputCol = 'features')"
   ]
  },
  {
   "cell_type": "code",
   "execution_count": 81,
   "id": "c5988c57-5b96-4639-97df-c9322be987bb",
   "metadata": {},
   "outputs": [
    {
     "name": "stdout",
     "output_type": "stream",
     "text": [
      "+--------------------+-----+---------+---------+-------+------+----+-----------+----------+------+---------+------------+----------+----------+--------+--------+------------------+-------------+------------------+--------+-------+----------+------------+-----------------+---------------+\n",
      "|                  id|andar|area_util|banheiros|quartos|suites|vaga|     bairro|condominio|  iptu|    label|Zona Central|Zona Norte|Zona Oeste|Zona Sul|Academia|Animais permitidos|Churrasqueira|Condomínio fechado|Elevador|Piscina|Playground|Portaria 24h|Portão eletrônico|Salão de festas|\n",
      "+--------------------+-----+---------+---------+-------+------+----+-----------+----------+------+---------+------------+----------+----------+--------+--------+------------------+-------------+------------------+--------+-------+----------+------------+-----------------+---------------+\n",
      "|02fba6ef-a691-442...|    3|       64|        1|      2|   2.0| 1.0|Jacarepaguá|     784.0|  80.0| 380000.0|           0|         0|         1|       0|       1|                 1|            1|                 1|       1|      1|         1|           1|                1|              1|\n",
      "|3dd5d200-0a7f-43d...|    0|      170|        3|      4|   1.0| 1.0|Cosme Velho|    2250.0|3000.0|1450000.0|           0|         0|         0|       1|       0|                 0|            0|                 0|       1|      0|         0|           0|                0|              0|\n",
      "|4e47e4d4-3326-4eb...|    0|       90|        2|      3|   1.0| 0.0| Copacabana|     950.0|2677.0| 949020.0|           0|         0|         0|       1|       0|                 0|            0|                 0|       1|      0|         0|           0|                0|              0|\n",
      "|82707939-71bd-40c...|    0|      525|        4|      4|   2.0| 2.0|   Flamengo|    5000.0|2100.0|5199000.0|           0|         0|         0|       1|       0|                 0|            0|                 0|       0|      0|         0|           0|                0|              0|\n",
      "|ece1e671-cb4d-48a...|    0|       50|        1|      2|   0.0| 1.0|     Centro|     320.0|  80.0| 330000.0|           1|         0|         0|       0|       1|                 1|            1|                 1|       1|      1|         1|           1|                1|              1|\n",
      "+--------------------+-----+---------+---------+-------+------+----+-----------+----------+------+---------+------------+----------+----------+--------+--------+------------------+-------------+------------------+--------+-------+----------+------------+-----------------+---------------+\n",
      "only showing top 5 rows\n",
      "\n"
     ]
    }
   ],
   "source": [
    "dataset.show(5)"
   ]
  },
  {
   "cell_type": "code",
   "execution_count": 82,
   "id": "011b6e6d-592d-4ef3-9ae9-bf5855a60aeb",
   "metadata": {},
   "outputs": [],
   "source": [
    "dataset_prep = assembler.transform(dataset).select('features', 'label')"
   ]
  },
  {
   "cell_type": "code",
   "execution_count": 83,
   "id": "c41afd70-725d-4625-853b-bd65e66272b3",
   "metadata": {},
   "outputs": [
    {
     "name": "stdout",
     "output_type": "stream",
     "text": [
      "23/08/28 12:11:40 WARN package: Truncated the string representation of a plan since it was too large. This behavior can be adjusted by setting 'spark.sql.debug.maxToStringFields'.\n",
      "+--------------------+---------+\n",
      "|            features|    label|\n",
      "+--------------------+---------+\n",
      "|(22,[1,2,3,5,6,7,...|1025000.0|\n",
      "|[0.0,42.0,1.0,1.0...| 673928.0|\n",
      "|(22,[1,2,3,5,6,9]...| 259900.0|\n",
      "|(22,[0,1,2,3,5,6,...| 790000.0|\n",
      "|[0.0,98.0,3.0,2.0...| 950000.0|\n",
      "+--------------------+---------+\n",
      "only showing top 5 rows\n",
      "\n"
     ]
    }
   ],
   "source": [
    "dataset_prep.show(5)"
   ]
  },
  {
   "cell_type": "markdown",
   "id": "42459595-6464-4cda-b427-12980c8cf6c8",
   "metadata": {},
   "source": [
    "# Construindo modelos de regressão"
   ]
  },
  {
   "cell_type": "markdown",
   "id": "01ad62ea-4490-4215-bb6b-b20dbda19b92",
   "metadata": {},
   "source": [
    "## Random Forest"
   ]
  },
  {
   "cell_type": "code",
   "execution_count": 84,
   "id": "fe29e642-9ca8-4f07-a2c4-48d5d48c58e0",
   "metadata": {},
   "outputs": [],
   "source": [
    "from pyspark.ml.regression import RandomForestRegressor"
   ]
  },
  {
   "cell_type": "code",
   "execution_count": 85,
   "id": "14844801-ac9d-42c3-ba11-4e1a6aa452d6",
   "metadata": {},
   "outputs": [],
   "source": [
    "treino, teste = dataset_prep.randomSplit([0.7, 0.3], seed=101)"
   ]
  },
  {
   "cell_type": "code",
   "execution_count": 86,
   "id": "6143d677-a5e6-4083-8ecb-da98f6c62eb0",
   "metadata": {},
   "outputs": [],
   "source": [
    "rfr = RandomForestRegressor(seed=13, maxDepth=13, numTrees=13)"
   ]
  },
  {
   "cell_type": "code",
   "execution_count": 87,
   "id": "81d0803c-7bb4-4bdb-bb0a-46c262db58b5",
   "metadata": {},
   "outputs": [
    {
     "name": "stderr",
     "output_type": "stream",
     "text": [
      "                                                                                \r"
     ]
    },
    {
     "name": "stdout",
     "output_type": "stream",
     "text": [
      "23/08/28 12:13:04 WARN DAGScheduler: Broadcasting large task binary with size 1109.4 KiB\n",
      "23/08/28 12:13:04 WARN DAGScheduler: Broadcasting large task binary with size 1843.0 KiB\n",
      "23/08/28 12:13:05 WARN DAGScheduler: Broadcasting large task binary with size 2.9 MiB\n",
      "23/08/28 12:13:06 WARN DAGScheduler: Broadcasting large task binary with size 4.7 MiB\n"
     ]
    },
    {
     "name": "stderr",
     "output_type": "stream",
     "text": [
      "                                                                                \r"
     ]
    },
    {
     "name": "stdout",
     "output_type": "stream",
     "text": [
      "23/08/28 12:13:07 WARN DAGScheduler: Broadcasting large task binary with size 7.2 MiB\n"
     ]
    },
    {
     "name": "stderr",
     "output_type": "stream",
     "text": [
      "[Stage 401:==================================================>    (11 + 1) / 12]\r"
     ]
    },
    {
     "name": "stdout",
     "output_type": "stream",
     "text": [
      "23/08/28 12:13:08 WARN DAGScheduler: Broadcasting large task binary with size 1275.2 KiB\n"
     ]
    },
    {
     "name": "stderr",
     "output_type": "stream",
     "text": [
      "                                                                                \r"
     ]
    }
   ],
   "source": [
    "modelo_rfr = rfr.fit(treino)"
   ]
  },
  {
   "cell_type": "code",
   "execution_count": 90,
   "id": "5063b8f2-5019-4cdf-b9dd-c847cfd92e9b",
   "metadata": {},
   "outputs": [],
   "source": [
    "previsoes_rfr_treino = modelo_rfr.transform(treino)"
   ]
  },
  {
   "cell_type": "code",
   "execution_count": 91,
   "id": "bc234bb9-c716-4a55-8433-05d70a84d395",
   "metadata": {},
   "outputs": [
    {
     "name": "stdout",
     "output_type": "stream",
     "text": [
      "+--------------------+---------+------------------+\n",
      "|            features|    label|        prediction|\n",
      "+--------------------+---------+------------------+\n",
      "|(22,[0,1,2,3,4,5,...| 539000.0|420754.47992179915|\n",
      "|(22,[0,1,2,3,4,5,...| 400000.0|436202.11299701215|\n",
      "|(22,[0,1,2,3,4,5,...| 391000.0| 376483.3852420622|\n",
      "|(22,[0,1,2,3,4,5,...| 659900.0| 555706.1217173499|\n",
      "|(22,[0,1,2,3,4,5,...| 550000.0|  586685.414042813|\n",
      "|(22,[0,1,2,3,4,5,...| 399000.0| 393617.1591916037|\n",
      "|(22,[0,1,2,3,4,5,...| 489900.0| 551915.7309575047|\n",
      "|(22,[0,1,2,3,4,5,...| 420000.0| 392160.2396481599|\n",
      "|(22,[0,1,2,3,4,5,...| 290000.0| 566165.8236964243|\n",
      "|(22,[0,1,2,3,4,5,...| 800000.0| 709663.2614932195|\n",
      "|(22,[0,1,2,3,4,5,...| 850000.0| 655114.1260441308|\n",
      "|(22,[0,1,2,3,4,5,...| 779504.0| 742627.2634319408|\n",
      "|(22,[0,1,2,3,4,5,...| 385000.0|1108087.2746642248|\n",
      "|(22,[0,1,2,3,4,5,...| 419000.0| 479476.7877373854|\n",
      "|(22,[0,1,2,3,4,5,...| 495000.0|  598714.580437708|\n",
      "|(22,[0,1,2,3,4,5,...|1160000.0|1144685.1786137319|\n",
      "|(22,[0,1,2,3,4,5,...| 894000.0| 902162.0331554709|\n",
      "|(22,[0,1,2,3,4,5,...| 699900.0| 621288.4337605891|\n",
      "|(22,[0,1,2,3,4,5,...| 670000.0| 588591.5553092106|\n",
      "|(22,[0,1,2,3,4,5,...| 650000.0| 590215.2827098884|\n",
      "+--------------------+---------+------------------+\n",
      "only showing top 20 rows\n",
      "\n"
     ]
    }
   ],
   "source": [
    "previsoes_rfr_treino.show()"
   ]
  },
  {
   "cell_type": "markdown",
   "id": "68c344a0-3e47-4012-9625-2816193009c5",
   "metadata": {},
   "source": [
    "# Métricas"
   ]
  },
  {
   "cell_type": "markdown",
   "id": "b8ae7c11-7e8b-4dc6-bece-ab186b90bd6d",
   "metadata": {},
   "source": [
    "## RMSE - Raiz do Erro Quadrático Médio. É a métrica que calcula a raiz quadrada do erro médio entre os valores reais e as predições da regressão. Quanto menor esse valor, melhor será o modelo, uma vez que estará cometendo menos erros. Matematicamente, pode ser definida como:"
   ]
  },
  {
   "cell_type": "markdown",
   "id": "80e2045f-110a-4cf9-b675-a8cbbb80a4c0",
   "metadata": {},
   "source": [
    "### RMSE igual a raiz quadrada de 1 sobre N multiplicado pelo somatório de j indo de 1 a n do quadro de Y_J menos y_j chapéu"
   ]
  },
  {
   "cell_type": "markdown",
   "id": "9144fad5-8302-4a83-86c9-7a1c5eb8dd16",
   "metadata": {},
   "source": [
    "### R2 - ou coeficiente de determinação é uma medida estatística que representa a porcentagem de variação da variável resposta que é explicada pelo modelo de regressão. Por se tratar de uma porcentagem, seu valor varia de 0 a 1, onde:\n",
    "\n",
    "### 0 indica que o modelo não explica nada da variabilidade dos dados de resposta ao redor de sua média;\n",
    "### 1 indica que o modelo explica toda a variabilidade dos dados de resposta ao redor de sua média.\n",
    "### Portanto, quanto mais próximo de 1 for o valor de R2, melhor será o desempenho do modelo de regressão. Se estivermos trabalhando com apenas duas variáveis, o coeficiente R2 será o quadrado do coeficiente de correlação de Pearson entre as duas variáveis."
   ]
  },
  {
   "cell_type": "code",
   "execution_count": 97,
   "id": "bc42dd3a-2b3e-42e8-963e-98fe14bb15bb",
   "metadata": {},
   "outputs": [],
   "source": [
    "from pyspark.ml.evaluation import RegressionEvaluator"
   ]
  },
  {
   "cell_type": "code",
   "execution_count": 98,
   "id": "ff4d58d3-eae0-46fd-bf81-1e04dae7fab8",
   "metadata": {},
   "outputs": [],
   "source": [
    "evaluator = RegressionEvaluator()\n"
   ]
  },
  {
   "cell_type": "code",
   "execution_count": 99,
   "id": "a78ab337-d124-44e6-bf10-eda48fb075fb",
   "metadata": {},
   "outputs": [
    {
     "name": "stdout",
     "output_type": "stream",
     "text": [
      "0.917841493250623\n",
      "419889.5453729271\n"
     ]
    }
   ],
   "source": [
    "# Métricas do treino\n",
    "\n",
    "print(evaluator.evaluate(previsoes_rfr_treino, {evaluator.metricName: \"r2\"}))\n",
    "print(evaluator.evaluate(previsoes_rfr_treino, {evaluator.metricName: \"rmse\"}))"
   ]
  },
  {
   "cell_type": "code",
   "execution_count": 100,
   "id": "920b1ce2-c092-472f-a42e-2fbfd0ca617d",
   "metadata": {},
   "outputs": [
    {
     "name": "stdout",
     "output_type": "stream",
     "text": [
      "+--------------------+---------+------------------+\n",
      "|            features|    label|        prediction|\n",
      "+--------------------+---------+------------------+\n",
      "|(22,[0,1,2,3,4,5,...| 335000.0|  590828.374034136|\n",
      "|(22,[0,1,2,3,4,5,...| 300000.0|493184.86308329395|\n",
      "|(22,[0,1,2,3,4,5,...| 378000.0| 623451.2118963827|\n",
      "|(22,[0,1,2,3,4,5,...| 235000.0|410948.87588317506|\n",
      "|(22,[0,1,2,3,4,5,...| 800000.0| 993718.4446364061|\n",
      "|(22,[0,1,2,3,4,5,...| 530000.0| 651270.3093288838|\n",
      "|(22,[0,1,2,3,4,5,...|1200000.0| 957159.8594103163|\n",
      "|(22,[0,1,2,3,4,5,...| 798500.0| 912535.5391410522|\n",
      "|(22,[0,1,2,3,4,5,...|1149000.0|1134459.0771062272|\n",
      "|(22,[0,1,2,3,4,5,...|1907500.0|1602370.8959834373|\n",
      "|(22,[0,1,2,3,4,5,...|1038900.0| 1067264.979552945|\n",
      "|(22,[0,1,2,3,4,5,...| 515000.0|440462.64743113075|\n",
      "|(22,[0,1,2,3,4,5,...|1050000.0| 922103.9672950362|\n",
      "|(22,[0,1,2,3,4,5,...|1260000.0|1458408.5052502225|\n",
      "|(22,[0,1,2,3,4,5,...|1450000.0|1780437.0014739041|\n",
      "|(22,[0,1,2,3,4,5,...| 400000.0| 391057.6277475558|\n",
      "|(22,[0,1,2,3,4,5,...|1824000.0|1623385.9061324147|\n",
      "|(22,[0,1,2,3,4,5,...| 530000.0|497710.39244842366|\n",
      "|(22,[0,1,2,3,4,5,...|2229460.0|1759077.3346318624|\n",
      "|(22,[0,1,2,3,4,5,...|9500000.0| 5308255.459641709|\n",
      "+--------------------+---------+------------------+\n",
      "only showing top 20 rows\n",
      "\n"
     ]
    }
   ],
   "source": [
    "previsoes_rfr_teste = modelo_rfr.transform(teste)\n",
    "previsoes_rfr_teste.show()"
   ]
  },
  {
   "cell_type": "code",
   "execution_count": 101,
   "id": "b9534fb7-643c-4506-9130-bd3dc4d85b27",
   "metadata": {},
   "outputs": [
    {
     "name": "stdout",
     "output_type": "stream",
     "text": [
      "Random Forest Regression\n",
      "==============================\n",
      "Dados de Treino\n",
      "==============================\n",
      "R²: 0.917841\n",
      "RMSE: 419889.545373\n",
      "\n",
      "==============================\n",
      "Dados de Teste\n",
      "==============================\n",
      "R²: 0.824426\n",
      "RMSE: 623266.286559\n"
     ]
    }
   ],
   "source": [
    "print('Random Forest Regression')\n",
    "print(\"=\"*30)\n",
    "print(\"Dados de Treino\")\n",
    "print(\"=\"*30)\n",
    "print(\"R²: %f\" % evaluator.evaluate(previsoes_rfr_treino, {evaluator.metricName: \"r2\"}))\n",
    "print(\"RMSE: %f\" % evaluator.evaluate(previsoes_rfr_treino, {evaluator.metricName: \"rmse\"}))\n",
    "print(\"\")\n",
    "print(\"=\"*30)\n",
    "print(\"Dados de Teste\")\n",
    "print(\"=\"*30)\n",
    "print(\"R²: %f\" % evaluator.evaluate(previsoes_rfr_teste, {evaluator.metricName: \"r2\"}))\n",
    "print(\"RMSE: %f\" % evaluator.evaluate(previsoes_rfr_teste, {evaluator.metricName: \"rmse\"}))"
   ]
  },
  {
   "cell_type": "markdown",
   "id": "34ddf1c0-f9ed-48d8-a096-bc7a3e2ab53a",
   "metadata": {},
   "source": [
    "# Extra: Otimização"
   ]
  },
  {
   "cell_type": "code",
   "execution_count": 103,
   "id": "15e4b77b-2602-418a-9db0-90c58f114890",
   "metadata": {},
   "outputs": [],
   "source": [
    "from pyspark.ml.tuning import CrossValidator, ParamGridBuilder\n"
   ]
  },
  {
   "cell_type": "code",
   "execution_count": 104,
   "id": "1887e352-7aa4-4249-8ada-857684eab85e",
   "metadata": {},
   "outputs": [],
   "source": [
    "rfr = RandomForestRegressor()"
   ]
  },
  {
   "cell_type": "code",
   "execution_count": 105,
   "id": "d34451fa-2dcd-47e6-b0a9-381f8e2c4dff",
   "metadata": {},
   "outputs": [],
   "source": [
    "grid = ParamGridBuilder() \\\n",
    "    .addGrid(rfr.numTrees, [10, 20, 30]) \\\n",
    "    .addGrid(rfr.maxDepth, [5, 10]) \\\n",
    "    .addGrid(rfr.maxBins, [10, 32, 45]) \\\n",
    "    .build()"
   ]
  },
  {
   "cell_type": "code",
   "execution_count": 106,
   "id": "02e2b843-2746-4428-b6b0-44bd058a4632",
   "metadata": {},
   "outputs": [],
   "source": [
    "evaluator = RegressionEvaluator()\n"
   ]
  },
  {
   "cell_type": "code",
   "execution_count": 107,
   "id": "b323bafb-afdc-46de-b54b-e9c3cebf2e2a",
   "metadata": {},
   "outputs": [],
   "source": [
    "rfr_cv = CrossValidator(\n",
    "    estimator=rfr,\n",
    "    estimatorParamMaps=grid,\n",
    "    evaluator=evaluator,\n",
    "    numFolds=3\n",
    ")"
   ]
  },
  {
   "cell_type": "code",
   "execution_count": 108,
   "id": "fd1b717a-eecb-4336-bb85-4a95b5d26da8",
   "metadata": {
    "scrolled": true
   },
   "outputs": [
    {
     "name": "stderr",
     "output_type": "stream",
     "text": [
      "                                                                                \r"
     ]
    },
    {
     "name": "stdout",
     "output_type": "stream",
     "text": [
      "23/08/28 12:19:05 WARN DAGScheduler: Broadcasting large task binary with size 1426.1 KiB\n",
      "23/08/28 12:19:07 WARN DAGScheduler: Broadcasting large task binary with size 1447.5 KiB\n",
      "23/08/28 12:19:08 WARN DAGScheduler: Broadcasting large task binary with size 1455.7 KiB\n",
      "23/08/28 12:19:14 WARN DAGScheduler: Broadcasting large task binary with size 1605.2 KiB\n",
      "23/08/28 12:19:14 WARN DAGScheduler: Broadcasting large task binary with size 2.6 MiB\n",
      "23/08/28 12:19:17 WARN DAGScheduler: Broadcasting large task binary with size 1585.0 KiB\n",
      "23/08/28 12:19:18 WARN DAGScheduler: Broadcasting large task binary with size 2.6 MiB\n",
      "23/08/28 12:19:20 WARN DAGScheduler: Broadcasting large task binary with size 1577.5 KiB\n",
      "23/08/28 12:19:21 WARN DAGScheduler: Broadcasting large task binary with size 2.6 MiB\n",
      "23/08/28 12:19:27 WARN DAGScheduler: Broadcasting large task binary with size 1333.2 KiB\n",
      "23/08/28 12:19:27 WARN DAGScheduler: Broadcasting large task binary with size 2.3 MiB\n",
      "23/08/28 12:19:28 WARN DAGScheduler: Broadcasting large task binary with size 3.9 MiB\n",
      "23/08/28 12:19:30 WARN DAGScheduler: Broadcasting large task binary with size 1326.1 KiB\n",
      "23/08/28 12:19:31 WARN DAGScheduler: Broadcasting large task binary with size 2.3 MiB\n",
      "23/08/28 12:19:31 WARN DAGScheduler: Broadcasting large task binary with size 3.9 MiB\n",
      "23/08/28 12:19:34 WARN DAGScheduler: Broadcasting large task binary with size 1326.9 KiB\n",
      "23/08/28 12:19:34 WARN DAGScheduler: Broadcasting large task binary with size 2.2 MiB\n",
      "23/08/28 12:19:35 WARN DAGScheduler: Broadcasting large task binary with size 3.8 MiB\n"
     ]
    },
    {
     "name": "stderr",
     "output_type": "stream",
     "text": [
      "                                                                                \r"
     ]
    },
    {
     "name": "stdout",
     "output_type": "stream",
     "text": [
      "23/08/28 12:19:49 WARN DAGScheduler: Broadcasting large task binary with size 1407.3 KiB\n",
      "23/08/28 12:19:50 WARN DAGScheduler: Broadcasting large task binary with size 1441.4 KiB\n",
      "23/08/28 12:19:51 WARN DAGScheduler: Broadcasting large task binary with size 1455.6 KiB\n",
      "23/08/28 12:19:56 WARN DAGScheduler: Broadcasting large task binary with size 1577.5 KiB\n",
      "23/08/28 12:19:56 WARN DAGScheduler: Broadcasting large task binary with size 2.6 MiB\n",
      "23/08/28 12:19:58 WARN DAGScheduler: Broadcasting large task binary with size 1581.2 KiB\n",
      "23/08/28 12:19:59 WARN DAGScheduler: Broadcasting large task binary with size 2.6 MiB\n",
      "23/08/28 12:20:01 WARN DAGScheduler: Broadcasting large task binary with size 1587.9 KiB\n",
      "23/08/28 12:20:01 WARN DAGScheduler: Broadcasting large task binary with size 2.6 MiB\n",
      "23/08/28 12:20:07 WARN DAGScheduler: Broadcasting large task binary with size 1330.3 KiB\n",
      "23/08/28 12:20:07 WARN DAGScheduler: Broadcasting large task binary with size 2.3 MiB\n",
      "23/08/28 12:20:08 WARN DAGScheduler: Broadcasting large task binary with size 3.9 MiB\n",
      "23/08/28 12:20:11 WARN DAGScheduler: Broadcasting large task binary with size 1326.5 KiB\n",
      "23/08/28 12:20:11 WARN DAGScheduler: Broadcasting large task binary with size 2.3 MiB\n",
      "23/08/28 12:20:12 WARN DAGScheduler: Broadcasting large task binary with size 3.9 MiB\n",
      "23/08/28 12:20:14 WARN DAGScheduler: Broadcasting large task binary with size 1326.8 KiB\n",
      "23/08/28 12:20:15 WARN DAGScheduler: Broadcasting large task binary with size 2.2 MiB\n",
      "23/08/28 12:20:16 WARN DAGScheduler: Broadcasting large task binary with size 3.8 MiB\n"
     ]
    },
    {
     "name": "stderr",
     "output_type": "stream",
     "text": [
      "                                                                                \r"
     ]
    },
    {
     "name": "stdout",
     "output_type": "stream",
     "text": [
      "23/08/28 12:20:29 WARN DAGScheduler: Broadcasting large task binary with size 1460.4 KiB\n",
      "23/08/28 12:20:31 WARN DAGScheduler: Broadcasting large task binary with size 1477.2 KiB\n",
      "23/08/28 12:20:33 WARN DAGScheduler: Broadcasting large task binary with size 1471.2 KiB\n",
      "23/08/28 12:20:37 WARN DAGScheduler: Broadcasting large task binary with size 1624.4 KiB\n",
      "23/08/28 12:20:37 WARN DAGScheduler: Broadcasting large task binary with size 2.7 MiB\n",
      "23/08/28 12:20:40 WARN DAGScheduler: Broadcasting large task binary with size 1608.6 KiB\n",
      "23/08/28 12:20:40 WARN DAGScheduler: Broadcasting large task binary with size 2.7 MiB\n",
      "23/08/28 12:20:42 WARN DAGScheduler: Broadcasting large task binary with size 1581.9 KiB\n",
      "23/08/28 12:20:43 WARN DAGScheduler: Broadcasting large task binary with size 2.6 MiB\n",
      "23/08/28 12:20:49 WARN DAGScheduler: Broadcasting large task binary with size 1329.0 KiB\n",
      "23/08/28 12:20:49 WARN DAGScheduler: Broadcasting large task binary with size 2.3 MiB\n",
      "23/08/28 12:20:50 WARN DAGScheduler: Broadcasting large task binary with size 3.9 MiB\n",
      "23/08/28 12:20:52 WARN DAGScheduler: Broadcasting large task binary with size 1330.6 KiB\n",
      "23/08/28 12:20:53 WARN DAGScheduler: Broadcasting large task binary with size 2.3 MiB\n",
      "23/08/28 12:20:54 WARN DAGScheduler: Broadcasting large task binary with size 3.9 MiB\n"
     ]
    },
    {
     "name": "stderr",
     "output_type": "stream",
     "text": [
      "                                                                                \r"
     ]
    },
    {
     "name": "stdout",
     "output_type": "stream",
     "text": [
      "23/08/28 12:20:56 WARN DAGScheduler: Broadcasting large task binary with size 1329.4 KiB\n",
      "23/08/28 12:20:57 WARN DAGScheduler: Broadcasting large task binary with size 2.3 MiB\n",
      "23/08/28 12:20:58 WARN DAGScheduler: Broadcasting large task binary with size 3.9 MiB\n",
      "23/08/28 12:21:01 WARN DAGScheduler: Broadcasting large task binary with size 1352.5 KiB\n",
      "23/08/28 12:21:02 WARN DAGScheduler: Broadcasting large task binary with size 2.3 MiB\n",
      "23/08/28 12:21:02 WARN DAGScheduler: Broadcasting large task binary with size 4.0 MiB\n"
     ]
    },
    {
     "name": "stderr",
     "output_type": "stream",
     "text": [
      "                                                                                \r"
     ]
    }
   ],
   "source": [
    "modelo_rfr_cv = rfr_cv.fit(treino)"
   ]
  },
  {
   "cell_type": "code",
   "execution_count": 112,
   "id": "fd582d75-5fcd-4f09-9400-b868fd8c95cb",
   "metadata": {},
   "outputs": [],
   "source": [
    "previsoes_rfr_cv_teste = modelo_rfr_cv.transform(teste)"
   ]
  },
  {
   "cell_type": "code",
   "execution_count": 113,
   "id": "39adaa65-8425-4110-97c1-98d2e92e8256",
   "metadata": {},
   "outputs": [
    {
     "data": {
      "text/plain": [
       "RandomForestRegressionModel: uid=RandomForestRegressor_871e2e9a652e, numTrees=30, numFeatures=22"
      ]
     },
     "execution_count": 113,
     "metadata": {},
     "output_type": "execute_result"
    }
   ],
   "source": [
    "# Quais os melhores parâmetros para o modelo?\n",
    "\n",
    "modelo_rfr_cv.bestModel"
   ]
  },
  {
   "cell_type": "code",
   "execution_count": 114,
   "id": "2a4cf59f-2d9c-4f86-8962-1e19871d691e",
   "metadata": {},
   "outputs": [
    {
     "name": "stdout",
     "output_type": "stream",
     "text": [
      "Random Forest\n",
      "==============================\n",
      "Sem Cross Validation\n",
      "==============================\n",
      "R²: 0.824426\n",
      "RMSE: 623266.286559\n",
      "\n",
      "==============================\n",
      "Com Cross Validation\n",
      "==============================\n",
      "R²: 0.826770\n",
      "RMSE: 619090.514205\n"
     ]
    }
   ],
   "source": [
    "print('Random Forest')\n",
    "print(\"=\"*30)\n",
    "print(\"Sem Cross Validation\")\n",
    "print(\"=\"*30)\n",
    "print(\"R²: %f\" % evaluator.evaluate(previsoes_rfr_teste, {evaluator.metricName: \"r2\"}))\n",
    "print(\"RMSE: %f\" % evaluator.evaluate(previsoes_rfr_teste, {evaluator.metricName: \"rmse\"}))\n",
    "print(\"\")\n",
    "print(\"=\"*30)\n",
    "print(\"Com Cross Validation\")\n",
    "print(\"=\"*30)\n",
    "print(\"R²: %f\" % evaluator.evaluate(previsoes_rfr_cv_teste, {evaluator.metricName: \"r2\"}))\n",
    "print(\"RMSE: %f\" % evaluator.evaluate(previsoes_rfr_cv_teste, {evaluator.metricName: \"rmse\"}))"
   ]
  },
  {
   "cell_type": "markdown",
   "id": "76d31fe4-9a87-4598-98ec-68653c98e286",
   "metadata": {},
   "source": [
    "# Extra: Implementando o Gradient-boosted tree regression"
   ]
  },
  {
   "cell_type": "code",
   "execution_count": 115,
   "id": "73f149b0-8d95-408c-8fa0-c8383cd1bab4",
   "metadata": {},
   "outputs": [],
   "source": [
    "from pyspark.ml.regression import GBTRegressor\n",
    "\n",
    "gbt = GBTRegressor()"
   ]
  },
  {
   "cell_type": "code",
   "execution_count": 116,
   "id": "c14458e9-585b-4b9f-a6c1-ba7dfb7c40a6",
   "metadata": {},
   "outputs": [],
   "source": [
    "modelo_gbt = gbt.fit(treino)"
   ]
  },
  {
   "cell_type": "code",
   "execution_count": 117,
   "id": "70dabe31-2091-4a1f-8f40-14a14f8347b8",
   "metadata": {},
   "outputs": [],
   "source": [
    "previsoes_gbt_treino = modelo_gbt.transform(treino);\n"
   ]
  },
  {
   "cell_type": "code",
   "execution_count": 118,
   "id": "22caf8d1-8e67-4869-8ddc-0eb6e0fd51ef",
   "metadata": {},
   "outputs": [
    {
     "name": "stdout",
     "output_type": "stream",
     "text": [
      "+------------------+--------+--------------------+\n",
      "|        prediction|   label|            features|\n",
      "+------------------+--------+--------------------+\n",
      "|295085.40561021725|539000.0|(22,[0,1,2,3,4,5,...|\n",
      "| 522441.6056130516|400000.0|(22,[0,1,2,3,4,5,...|\n",
      "| 337925.0201095524|391000.0|(22,[0,1,2,3,4,5,...|\n",
      "| 357835.1816561218|659900.0|(22,[0,1,2,3,4,5,...|\n",
      "| 571531.0784988723|550000.0|(22,[0,1,2,3,4,5,...|\n",
      "+------------------+--------+--------------------+\n",
      "only showing top 5 rows\n",
      "\n"
     ]
    }
   ],
   "source": [
    "previsoes_gbt_treino.select(\"prediction\", \"label\", \"features\").show(5)\n"
   ]
  },
  {
   "cell_type": "code",
   "execution_count": 119,
   "id": "f2113329-93e8-4ddc-a41d-9cd41870d281",
   "metadata": {},
   "outputs": [],
   "source": [
    "previsoes_gbt_teste = modelo_gbt.transform(teste);"
   ]
  },
  {
   "cell_type": "code",
   "execution_count": 120,
   "id": "ca6c1875-abc1-44f0-afa1-0a4df39d8329",
   "metadata": {},
   "outputs": [
    {
     "name": "stdout",
     "output_type": "stream",
     "text": [
      "Root Mean Squared Error (RMSE) nos dados de teste: 686279\n",
      "R2 nos dados de teste: 0.78713\n"
     ]
    }
   ],
   "source": [
    "print(\"Root Mean Squared Error (RMSE) nos dados de teste: %g\" % evaluator.evaluate(previsoes_gbt_teste, {evaluator.metricName: \"rmse\"}))\n",
    "\n",
    "print(\"R2 nos dados de teste: %g\" % evaluator.evaluate(previsoes_gbt_teste, {evaluator.metricName: \"r2\"}))"
   ]
  },
  {
   "cell_type": "code",
   "execution_count": null,
   "id": "b3d33d59-b387-4601-9cb6-6f20c59aca65",
   "metadata": {},
   "outputs": [],
   "source": []
  }
 ],
 "metadata": {
  "kernelspec": {
   "display_name": "Python 3 (ipykernel)",
   "language": "python",
   "name": "python3"
  },
  "language_info": {
   "codemirror_mode": {
    "name": "ipython",
    "version": 3
   },
   "file_extension": ".py",
   "mimetype": "text/x-python",
   "name": "python",
   "nbconvert_exporter": "python",
   "pygments_lexer": "ipython3",
   "version": "3.10.12"
  }
 },
 "nbformat": 4,
 "nbformat_minor": 5
}
